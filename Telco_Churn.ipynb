{
 "cells": [
  {
   "cell_type": "markdown",
   "metadata": {},
   "source": [
    "# Telco Customer Churn Project"
   ]
  },
  {
   "cell_type": "markdown",
   "metadata": {},
   "source": [
    "Each row represents a customer, each column contains customer’s attributes.\n",
    "\n",
    "The raw data contains 7043 rows (customers) and 21 columns (features).\n",
    "\n",
    "The \"Churn\" column is our target."
   ]
  },
  {
   "cell_type": "markdown",
   "metadata": {},
   "source": [
    "#### Our Goal\n",
    "We will try to estimate the target column \"Churn\" and will use classification metrics when evaluating the performance of our model!"
   ]
  },
  {
   "cell_type": "code",
   "execution_count": 18,
   "metadata": {},
   "outputs": [],
   "source": [
    "import pandas as pd\n",
    "import numpy as np\n",
    "import matplotlib.pyplot as plt\n",
    "import seaborn as sns\n",
    "%matplotlib inline"
   ]
  },
  {
   "cell_type": "code",
   "execution_count": 19,
   "metadata": {},
   "outputs": [],
   "source": [
    "df = pd.read_csv('Telco-Customer-Churn.csv')"
   ]
  },
  {
   "cell_type": "code",
   "execution_count": 20,
   "metadata": {},
   "outputs": [
    {
     "data": {
      "text/html": [
       "<div>\n",
       "<style scoped>\n",
       "    .dataframe tbody tr th:only-of-type {\n",
       "        vertical-align: middle;\n",
       "    }\n",
       "\n",
       "    .dataframe tbody tr th {\n",
       "        vertical-align: top;\n",
       "    }\n",
       "\n",
       "    .dataframe thead th {\n",
       "        text-align: right;\n",
       "    }\n",
       "</style>\n",
       "<table border=\"1\" class=\"dataframe\">\n",
       "  <thead>\n",
       "    <tr style=\"text-align: right;\">\n",
       "      <th></th>\n",
       "      <th>customerID</th>\n",
       "      <th>gender</th>\n",
       "      <th>SeniorCitizen</th>\n",
       "      <th>Partner</th>\n",
       "      <th>Dependents</th>\n",
       "      <th>tenure</th>\n",
       "      <th>PhoneService</th>\n",
       "      <th>MultipleLines</th>\n",
       "      <th>InternetService</th>\n",
       "      <th>OnlineSecurity</th>\n",
       "      <th>...</th>\n",
       "      <th>DeviceProtection</th>\n",
       "      <th>TechSupport</th>\n",
       "      <th>StreamingTV</th>\n",
       "      <th>StreamingMovies</th>\n",
       "      <th>Contract</th>\n",
       "      <th>PaperlessBilling</th>\n",
       "      <th>PaymentMethod</th>\n",
       "      <th>MonthlyCharges</th>\n",
       "      <th>TotalCharges</th>\n",
       "      <th>Churn</th>\n",
       "    </tr>\n",
       "  </thead>\n",
       "  <tbody>\n",
       "    <tr>\n",
       "      <th>0</th>\n",
       "      <td>7590-VHVEG</td>\n",
       "      <td>Female</td>\n",
       "      <td>0</td>\n",
       "      <td>Yes</td>\n",
       "      <td>No</td>\n",
       "      <td>1</td>\n",
       "      <td>No</td>\n",
       "      <td>No phone service</td>\n",
       "      <td>DSL</td>\n",
       "      <td>No</td>\n",
       "      <td>...</td>\n",
       "      <td>No</td>\n",
       "      <td>No</td>\n",
       "      <td>No</td>\n",
       "      <td>No</td>\n",
       "      <td>Month-to-month</td>\n",
       "      <td>Yes</td>\n",
       "      <td>Electronic check</td>\n",
       "      <td>29.85</td>\n",
       "      <td>29.85</td>\n",
       "      <td>No</td>\n",
       "    </tr>\n",
       "    <tr>\n",
       "      <th>1</th>\n",
       "      <td>5575-GNVDE</td>\n",
       "      <td>Male</td>\n",
       "      <td>0</td>\n",
       "      <td>No</td>\n",
       "      <td>No</td>\n",
       "      <td>34</td>\n",
       "      <td>Yes</td>\n",
       "      <td>No</td>\n",
       "      <td>DSL</td>\n",
       "      <td>Yes</td>\n",
       "      <td>...</td>\n",
       "      <td>Yes</td>\n",
       "      <td>No</td>\n",
       "      <td>No</td>\n",
       "      <td>No</td>\n",
       "      <td>One year</td>\n",
       "      <td>No</td>\n",
       "      <td>Mailed check</td>\n",
       "      <td>56.95</td>\n",
       "      <td>1889.5</td>\n",
       "      <td>No</td>\n",
       "    </tr>\n",
       "    <tr>\n",
       "      <th>2</th>\n",
       "      <td>3668-QPYBK</td>\n",
       "      <td>Male</td>\n",
       "      <td>0</td>\n",
       "      <td>No</td>\n",
       "      <td>No</td>\n",
       "      <td>2</td>\n",
       "      <td>Yes</td>\n",
       "      <td>No</td>\n",
       "      <td>DSL</td>\n",
       "      <td>Yes</td>\n",
       "      <td>...</td>\n",
       "      <td>No</td>\n",
       "      <td>No</td>\n",
       "      <td>No</td>\n",
       "      <td>No</td>\n",
       "      <td>Month-to-month</td>\n",
       "      <td>Yes</td>\n",
       "      <td>Mailed check</td>\n",
       "      <td>53.85</td>\n",
       "      <td>108.15</td>\n",
       "      <td>Yes</td>\n",
       "    </tr>\n",
       "    <tr>\n",
       "      <th>3</th>\n",
       "      <td>7795-CFOCW</td>\n",
       "      <td>Male</td>\n",
       "      <td>0</td>\n",
       "      <td>No</td>\n",
       "      <td>No</td>\n",
       "      <td>45</td>\n",
       "      <td>No</td>\n",
       "      <td>No phone service</td>\n",
       "      <td>DSL</td>\n",
       "      <td>Yes</td>\n",
       "      <td>...</td>\n",
       "      <td>Yes</td>\n",
       "      <td>Yes</td>\n",
       "      <td>No</td>\n",
       "      <td>No</td>\n",
       "      <td>One year</td>\n",
       "      <td>No</td>\n",
       "      <td>Bank transfer (automatic)</td>\n",
       "      <td>42.30</td>\n",
       "      <td>1840.75</td>\n",
       "      <td>No</td>\n",
       "    </tr>\n",
       "    <tr>\n",
       "      <th>4</th>\n",
       "      <td>9237-HQITU</td>\n",
       "      <td>Female</td>\n",
       "      <td>0</td>\n",
       "      <td>No</td>\n",
       "      <td>No</td>\n",
       "      <td>2</td>\n",
       "      <td>Yes</td>\n",
       "      <td>No</td>\n",
       "      <td>Fiber optic</td>\n",
       "      <td>No</td>\n",
       "      <td>...</td>\n",
       "      <td>No</td>\n",
       "      <td>No</td>\n",
       "      <td>No</td>\n",
       "      <td>No</td>\n",
       "      <td>Month-to-month</td>\n",
       "      <td>Yes</td>\n",
       "      <td>Electronic check</td>\n",
       "      <td>70.70</td>\n",
       "      <td>151.65</td>\n",
       "      <td>Yes</td>\n",
       "    </tr>\n",
       "  </tbody>\n",
       "</table>\n",
       "<p>5 rows × 21 columns</p>\n",
       "</div>"
      ],
      "text/plain": [
       "   customerID  gender  SeniorCitizen Partner Dependents  tenure PhoneService  \\\n",
       "0  7590-VHVEG  Female              0     Yes         No       1           No   \n",
       "1  5575-GNVDE    Male              0      No         No      34          Yes   \n",
       "2  3668-QPYBK    Male              0      No         No       2          Yes   \n",
       "3  7795-CFOCW    Male              0      No         No      45           No   \n",
       "4  9237-HQITU  Female              0      No         No       2          Yes   \n",
       "\n",
       "      MultipleLines InternetService OnlineSecurity  ... DeviceProtection  \\\n",
       "0  No phone service             DSL             No  ...               No   \n",
       "1                No             DSL            Yes  ...              Yes   \n",
       "2                No             DSL            Yes  ...               No   \n",
       "3  No phone service             DSL            Yes  ...              Yes   \n",
       "4                No     Fiber optic             No  ...               No   \n",
       "\n",
       "  TechSupport StreamingTV StreamingMovies        Contract PaperlessBilling  \\\n",
       "0          No          No              No  Month-to-month              Yes   \n",
       "1          No          No              No        One year               No   \n",
       "2          No          No              No  Month-to-month              Yes   \n",
       "3         Yes          No              No        One year               No   \n",
       "4          No          No              No  Month-to-month              Yes   \n",
       "\n",
       "               PaymentMethod MonthlyCharges  TotalCharges Churn  \n",
       "0           Electronic check          29.85         29.85    No  \n",
       "1               Mailed check          56.95        1889.5    No  \n",
       "2               Mailed check          53.85        108.15   Yes  \n",
       "3  Bank transfer (automatic)          42.30       1840.75    No  \n",
       "4           Electronic check          70.70        151.65   Yes  \n",
       "\n",
       "[5 rows x 21 columns]"
      ]
     },
     "execution_count": 20,
     "metadata": {},
     "output_type": "execute_result"
    }
   ],
   "source": [
    "df.head()"
   ]
  },
  {
   "cell_type": "markdown",
   "metadata": {},
   "source": [
    "## 1. FEATURE ENGINEERING\n",
    "\n",
    "##### We have 21 different features, including the target. Now we will work on 20 independent features seperately."
   ]
  },
  {
   "cell_type": "code",
   "execution_count": 22,
   "metadata": {},
   "outputs": [
    {
     "data": {
      "text/plain": [
       "customerID          0\n",
       "gender              0\n",
       "SeniorCitizen       0\n",
       "Partner             0\n",
       "Dependents          0\n",
       "tenure              0\n",
       "PhoneService        0\n",
       "MultipleLines       0\n",
       "InternetService     0\n",
       "OnlineSecurity      0\n",
       "OnlineBackup        0\n",
       "DeviceProtection    0\n",
       "TechSupport         0\n",
       "StreamingTV         0\n",
       "StreamingMovies     0\n",
       "Contract            0\n",
       "PaperlessBilling    0\n",
       "PaymentMethod       0\n",
       "MonthlyCharges      0\n",
       "TotalCharges        0\n",
       "Churn               0\n",
       "dtype: int64"
      ]
     },
     "execution_count": 22,
     "metadata": {},
     "output_type": "execute_result"
    }
   ],
   "source": [
    "# There is no missing value:)\n",
    "df.isnull().sum()"
   ]
  },
  {
   "cell_type": "code",
   "execution_count": 23,
   "metadata": {},
   "outputs": [
    {
     "name": "stdout",
     "output_type": "stream",
     "text": [
      "<class 'pandas.core.frame.DataFrame'>\n",
      "RangeIndex: 7043 entries, 0 to 7042\n",
      "Data columns (total 21 columns):\n",
      " #   Column            Non-Null Count  Dtype  \n",
      "---  ------            --------------  -----  \n",
      " 0   customerID        7043 non-null   object \n",
      " 1   gender            7043 non-null   object \n",
      " 2   SeniorCitizen     7043 non-null   int64  \n",
      " 3   Partner           7043 non-null   object \n",
      " 4   Dependents        7043 non-null   object \n",
      " 5   tenure            7043 non-null   int64  \n",
      " 6   PhoneService      7043 non-null   object \n",
      " 7   MultipleLines     7043 non-null   object \n",
      " 8   InternetService   7043 non-null   object \n",
      " 9   OnlineSecurity    7043 non-null   object \n",
      " 10  OnlineBackup      7043 non-null   object \n",
      " 11  DeviceProtection  7043 non-null   object \n",
      " 12  TechSupport       7043 non-null   object \n",
      " 13  StreamingTV       7043 non-null   object \n",
      " 14  StreamingMovies   7043 non-null   object \n",
      " 15  Contract          7043 non-null   object \n",
      " 16  PaperlessBilling  7043 non-null   object \n",
      " 17  PaymentMethod     7043 non-null   object \n",
      " 18  MonthlyCharges    7043 non-null   float64\n",
      " 19  TotalCharges      7043 non-null   object \n",
      " 20  Churn             7043 non-null   object \n",
      "dtypes: float64(1), int64(2), object(18)\n",
      "memory usage: 1.1+ MB\n"
     ]
    }
   ],
   "source": [
    "df.info()"
   ]
  },
  {
   "cell_type": "code",
   "execution_count": 24,
   "metadata": {},
   "outputs": [
    {
     "data": {
      "text/plain": [
       "Index(['customerID', 'gender', 'SeniorCitizen', 'Partner', 'Dependents',\n",
       "       'tenure', 'PhoneService', 'MultipleLines', 'InternetService',\n",
       "       'OnlineSecurity', 'OnlineBackup', 'DeviceProtection', 'TechSupport',\n",
       "       'StreamingTV', 'StreamingMovies', 'Contract', 'PaperlessBilling',\n",
       "       'PaymentMethod', 'MonthlyCharges', 'TotalCharges', 'Churn'],\n",
       "      dtype='object')"
      ]
     },
     "execution_count": 24,
     "metadata": {},
     "output_type": "execute_result"
    }
   ],
   "source": [
    "df.columns"
   ]
  },
  {
   "cell_type": "code",
   "execution_count": 25,
   "metadata": {},
   "outputs": [],
   "source": [
    "df2=df.copy()"
   ]
  },
  {
   "cell_type": "code",
   "execution_count": 26,
   "metadata": {},
   "outputs": [
    {
     "data": {
      "image/png": "[encoded data removed]",
      "text/plain": [
       "<Figure size 432x288 with 1 Axes>"
      ]
     },
     "metadata": {
      "needs_background": "light"
     },
     "output_type": "display_data"
    }
   ],
   "source": [
    "sns.countplot(df.Churn);"
   ]
  },
  {
   "cell_type": "markdown",
   "metadata": {},
   "source": [
    "#### 1) 'customerID'   \n",
    "I will drop it because it is not usable in classification"
   ]
  },
  {
   "cell_type": "code",
   "execution_count": 28,
   "metadata": {},
   "outputs": [],
   "source": [
    "df=df.drop('customerID', axis=1)"
   ]
  },
  {
   "cell_type": "markdown",
   "metadata": {},
   "source": [
    "#### 2) 'gender'\n",
    "Gender column should be converted to numeric."
   ]
  },
  {
   "cell_type": "code",
   "execution_count": 29,
   "metadata": {},
   "outputs": [
    {
     "data": {
      "text/plain": [
       "Male      3555\n",
       "Female    3488\n",
       "Name: gender, dtype: int64"
      ]
     },
     "execution_count": 29,
     "metadata": {},
     "output_type": "execute_result"
    }
   ],
   "source": [
    "df.gender.value_counts()"
   ]
  },
  {
   "cell_type": "code",
   "execution_count": 30,
   "metadata": {},
   "outputs": [],
   "source": [
    "df['gender']=df.gender.replace('Female',1).replace('Male',0)"
   ]
  },
  {
   "cell_type": "code",
   "execution_count": 31,
   "metadata": {},
   "outputs": [
    {
     "data": {
      "text/plain": [
       "0    3555\n",
       "1    3488\n",
       "Name: gender, dtype: int64"
      ]
     },
     "execution_count": 31,
     "metadata": {},
     "output_type": "execute_result"
    }
   ],
   "source": [
    "df.gender.value_counts()"
   ]
  },
  {
   "cell_type": "markdown",
   "metadata": {},
   "source": [
    "#### 3) 'SeniorCitizen'\n",
    "This column's type is already integer, so we will let it as it is."
   ]
  },
  {
   "cell_type": "code",
   "execution_count": 33,
   "metadata": {},
   "outputs": [
    {
     "data": {
      "text/plain": [
       "0    5901\n",
       "1    1142\n",
       "Name: SeniorCitizen, dtype: int64"
      ]
     },
     "execution_count": 33,
     "metadata": {},
     "output_type": "execute_result"
    }
   ],
   "source": [
    "df.SeniorCitizen.value_counts()"
   ]
  },
  {
   "cell_type": "markdown",
   "metadata": {},
   "source": [
    "#### 4) 'Partner'\n",
    "This column should also be converted to numeric."
   ]
  },
  {
   "cell_type": "code",
   "execution_count": 34,
   "metadata": {},
   "outputs": [
    {
     "data": {
      "text/plain": [
       "No     3641\n",
       "Yes    3402\n",
       "Name: Partner, dtype: int64"
      ]
     },
     "execution_count": 34,
     "metadata": {},
     "output_type": "execute_result"
    }
   ],
   "source": [
    "df.Partner.value_counts()"
   ]
  },
  {
   "cell_type": "code",
   "execution_count": 36,
   "metadata": {},
   "outputs": [],
   "source": [
    "df['Partner']=df.Partner.replace('Yes',1).replace('No',0)"
   ]
  },
  {
   "cell_type": "code",
   "execution_count": 37,
   "metadata": {},
   "outputs": [
    {
     "data": {
      "text/plain": [
       "0    3641\n",
       "1    3402\n",
       "Name: Partner, dtype: int64"
      ]
     },
     "execution_count": 37,
     "metadata": {},
     "output_type": "execute_result"
    }
   ],
   "source": [
    "df.Partner.value_counts()"
   ]
  },
  {
   "cell_type": "markdown",
   "metadata": {},
   "source": [
    "#### 5) 'Dependents'\n",
    "This column should also be converted to numeric."
   ]
  },
  {
   "cell_type": "code",
   "execution_count": 86,
   "metadata": {},
   "outputs": [
    {
     "data": {
      "text/plain": [
       "No     4933\n",
       "Yes    2110\n",
       "Name: Dependents, dtype: int64"
      ]
     },
     "execution_count": 86,
     "metadata": {},
     "output_type": "execute_result"
    }
   ],
   "source": [
    "df.Dependents.value_counts()"
   ]
  },
  {
   "cell_type": "code",
   "execution_count": 87,
   "metadata": {},
   "outputs": [],
   "source": [
    "df['Dependents']=df.Dependents.replace('Yes',1).replace('No',0)"
   ]
  },
  {
   "cell_type": "code",
   "execution_count": 88,
   "metadata": {},
   "outputs": [
    {
     "data": {
      "text/plain": [
       "0    4933\n",
       "1    2110\n",
       "Name: Dependents, dtype: int64"
      ]
     },
     "execution_count": 88,
     "metadata": {},
     "output_type": "execute_result"
    }
   ],
   "source": [
    "df.Dependents.value_counts()"
   ]
  },
  {
   "cell_type": "markdown",
   "metadata": {},
   "source": [
    "#### 6) 'tenure'\n",
    "This column's type is already integer, so we will let it as it is."
   ]
  },
  {
   "cell_type": "code",
   "execution_count": 39,
   "metadata": {},
   "outputs": [
    {
     "data": {
      "text/plain": [
       "count    7043.000000\n",
       "mean       32.371149\n",
       "std        24.559481\n",
       "min         0.000000\n",
       "25%         9.000000\n",
       "50%        29.000000\n",
       "75%        55.000000\n",
       "max        72.000000\n",
       "Name: tenure, dtype: float64"
      ]
     },
     "execution_count": 39,
     "metadata": {},
     "output_type": "execute_result"
    }
   ],
   "source": [
    "df.tenure.describe()"
   ]
  },
  {
   "cell_type": "code",
   "execution_count": 43,
   "metadata": {},
   "outputs": [
    {
     "data": {
      "image/png": "[encoded data removed]",
      "text/plain": [
       "<Figure size 720x288 with 1 Axes>"
      ]
     },
     "metadata": {
      "needs_background": "light"
     },
     "output_type": "display_data"
    }
   ],
   "source": [
    "plt.figure(figsize=(10,4))\n",
    "sns.distplot(df['tenure'], bins=50);"
   ]
  },
  {
   "cell_type": "code",
   "execution_count": 41,
   "metadata": {},
   "outputs": [
    {
     "data": {
      "text/plain": [
       "1     613\n",
       "72    362\n",
       "2     238\n",
       "3     200\n",
       "4     176\n",
       "     ... \n",
       "28     57\n",
       "39     56\n",
       "44     51\n",
       "36     50\n",
       "0      11\n",
       "Name: tenure, Length: 73, dtype: int64"
      ]
     },
     "execution_count": 41,
     "metadata": {},
     "output_type": "execute_result"
    }
   ],
   "source": [
    "df.tenure.value_counts()"
   ]
  },
  {
   "cell_type": "markdown",
   "metadata": {},
   "source": [
    "#### 7) 'PhoneService'\n",
    "This column should also be converted to numeric."
   ]
  },
  {
   "cell_type": "code",
   "execution_count": 45,
   "metadata": {},
   "outputs": [
    {
     "data": {
      "text/plain": [
       "Yes    6361\n",
       "No      682\n",
       "Name: PhoneService, dtype: int64"
      ]
     },
     "execution_count": 45,
     "metadata": {},
     "output_type": "execute_result"
    }
   ],
   "source": [
    "df.PhoneService.value_counts()"
   ]
  },
  {
   "cell_type": "code",
   "execution_count": 46,
   "metadata": {},
   "outputs": [],
   "source": [
    "df['PhoneService']=df.PhoneService.replace('Yes',1).replace('No',0)"
   ]
  },
  {
   "cell_type": "code",
   "execution_count": 47,
   "metadata": {},
   "outputs": [
    {
     "data": {
      "text/plain": [
       "1    6361\n",
       "0     682\n",
       "Name: PhoneService, dtype: int64"
      ]
     },
     "execution_count": 47,
     "metadata": {},
     "output_type": "execute_result"
    }
   ],
   "source": [
    "df.PhoneService.value_counts()"
   ]
  },
  {
   "cell_type": "markdown",
   "metadata": {},
   "source": [
    "#### 8) 'MultipleLines'\n",
    "This column should also be converted to numeric."
   ]
  },
  {
   "cell_type": "code",
   "execution_count": 48,
   "metadata": {},
   "outputs": [
    {
     "data": {
      "text/plain": [
       "No                  3390\n",
       "Yes                 2971\n",
       "No phone service     682\n",
       "Name: MultipleLines, dtype: int64"
      ]
     },
     "execution_count": 48,
     "metadata": {},
     "output_type": "execute_result"
    }
   ],
   "source": [
    "df.MultipleLines.value_counts()"
   ]
  },
  {
   "cell_type": "code",
   "execution_count": 49,
   "metadata": {},
   "outputs": [],
   "source": [
    "df['MultipleLines']=df.MultipleLines.replace('Yes',2).replace('No',1).replace('No phone service',0)"
   ]
  },
  {
   "cell_type": "code",
   "execution_count": 50,
   "metadata": {},
   "outputs": [
    {
     "data": {
      "text/plain": [
       "1    3390\n",
       "2    2971\n",
       "0     682\n",
       "Name: MultipleLines, dtype: int64"
      ]
     },
     "execution_count": 50,
     "metadata": {},
     "output_type": "execute_result"
    }
   ],
   "source": [
    "df.MultipleLines.value_counts()"
   ]
  },
  {
   "cell_type": "markdown",
   "metadata": {},
   "source": [
    "#### 9) 'InternetService'\n",
    "This column includes 3 different values: Fiber optic, DSL, and No. Although using get_dummies for this feature is an option, I will convert it into numeric since the values seems to be ordinal: Fiber optic > DSL > No"
   ]
  },
  {
   "cell_type": "code",
   "execution_count": 51,
   "metadata": {},
   "outputs": [
    {
     "data": {
      "text/plain": [
       "Fiber optic    3096\n",
       "DSL            2421\n",
       "No             1526\n",
       "Name: InternetService, dtype: int64"
      ]
     },
     "execution_count": 51,
     "metadata": {},
     "output_type": "execute_result"
    }
   ],
   "source": [
    "df.InternetService.value_counts()"
   ]
  },
  {
   "cell_type": "code",
   "execution_count": 52,
   "metadata": {},
   "outputs": [],
   "source": [
    "df['InternetService']=df.InternetService.replace('Fiber optic',2).replace('DSL',1).replace('No',0)"
   ]
  },
  {
   "cell_type": "code",
   "execution_count": 53,
   "metadata": {},
   "outputs": [
    {
     "data": {
      "text/plain": [
       "2    3096\n",
       "1    2421\n",
       "0    1526\n",
       "Name: InternetService, dtype: int64"
      ]
     },
     "execution_count": 53,
     "metadata": {},
     "output_type": "execute_result"
    }
   ],
   "source": [
    "df.InternetService.value_counts()"
   ]
  },
  {
   "cell_type": "markdown",
   "metadata": {},
   "source": [
    "#### 10) 'OnlineSecurity'\n",
    "This feature seems like InternetService feature, so this will also be converted to numeric."
   ]
  },
  {
   "cell_type": "code",
   "execution_count": 54,
   "metadata": {},
   "outputs": [
    {
     "data": {
      "text/plain": [
       "No                     3498\n",
       "Yes                    2019\n",
       "No internet service    1526\n",
       "Name: OnlineSecurity, dtype: int64"
      ]
     },
     "execution_count": 54,
     "metadata": {},
     "output_type": "execute_result"
    }
   ],
   "source": [
    "df.OnlineSecurity.value_counts()"
   ]
  },
  {
   "cell_type": "code",
   "execution_count": 55,
   "metadata": {},
   "outputs": [],
   "source": [
    "df['OnlineSecurity']=df.OnlineSecurity.replace('Yes',2).replace('No',1).replace('No internet service',0)"
   ]
  },
  {
   "cell_type": "code",
   "execution_count": 56,
   "metadata": {},
   "outputs": [
    {
     "data": {
      "text/plain": [
       "1    3498\n",
       "2    2019\n",
       "0    1526\n",
       "Name: OnlineSecurity, dtype: int64"
      ]
     },
     "execution_count": 56,
     "metadata": {},
     "output_type": "execute_result"
    }
   ],
   "source": [
    "df.OnlineSecurity.value_counts()"
   ]
  },
  {
   "cell_type": "markdown",
   "metadata": {},
   "source": [
    "#### 11) 'OnlineBackup'\n",
    "This feature is just like OnlineSecurity feature, so this will also be converted to numeric."
   ]
  },
  {
   "cell_type": "code",
   "execution_count": 57,
   "metadata": {},
   "outputs": [
    {
     "data": {
      "text/plain": [
       "No                     3088\n",
       "Yes                    2429\n",
       "No internet service    1526\n",
       "Name: OnlineBackup, dtype: int64"
      ]
     },
     "execution_count": 57,
     "metadata": {},
     "output_type": "execute_result"
    }
   ],
   "source": [
    "df.OnlineBackup.value_counts()"
   ]
  },
  {
   "cell_type": "code",
   "execution_count": 58,
   "metadata": {},
   "outputs": [],
   "source": [
    "df['OnlineBackup']=df.OnlineBackup.replace('Yes',2).replace('No',1).replace('No internet service',0)"
   ]
  },
  {
   "cell_type": "code",
   "execution_count": 59,
   "metadata": {},
   "outputs": [
    {
     "data": {
      "text/plain": [
       "1    3088\n",
       "2    2429\n",
       "0    1526\n",
       "Name: OnlineBackup, dtype: int64"
      ]
     },
     "execution_count": 59,
     "metadata": {},
     "output_type": "execute_result"
    }
   ],
   "source": [
    "df.OnlineBackup.value_counts()"
   ]
  },
  {
   "cell_type": "markdown",
   "metadata": {},
   "source": [
    "#### 12) 'DeviceProtection'\n",
    "Just like the above features, DeviceProtection feature will also be converted to numeric."
   ]
  },
  {
   "cell_type": "code",
   "execution_count": 60,
   "metadata": {},
   "outputs": [
    {
     "data": {
      "text/plain": [
       "No                     3095\n",
       "Yes                    2422\n",
       "No internet service    1526\n",
       "Name: DeviceProtection, dtype: int64"
      ]
     },
     "execution_count": 60,
     "metadata": {},
     "output_type": "execute_result"
    }
   ],
   "source": [
    "df.DeviceProtection.value_counts()"
   ]
  },
  {
   "cell_type": "code",
   "execution_count": 61,
   "metadata": {},
   "outputs": [],
   "source": [
    "df['DeviceProtection']=df.DeviceProtection.replace('Yes',2).replace('No',1).replace('No internet service',0)"
   ]
  },
  {
   "cell_type": "code",
   "execution_count": 62,
   "metadata": {},
   "outputs": [
    {
     "data": {
      "text/plain": [
       "1    3095\n",
       "2    2422\n",
       "0    1526\n",
       "Name: DeviceProtection, dtype: int64"
      ]
     },
     "execution_count": 62,
     "metadata": {},
     "output_type": "execute_result"
    }
   ],
   "source": [
    "df.DeviceProtection.value_counts()"
   ]
  },
  {
   "cell_type": "markdown",
   "metadata": {},
   "source": [
    "#### 13) 'TechSupport'\n",
    "Just like the above features, TechSupport feature will also be converted to numeric."
   ]
  },
  {
   "cell_type": "code",
   "execution_count": 63,
   "metadata": {},
   "outputs": [
    {
     "data": {
      "text/plain": [
       "No                     3473\n",
       "Yes                    2044\n",
       "No internet service    1526\n",
       "Name: TechSupport, dtype: int64"
      ]
     },
     "execution_count": 63,
     "metadata": {},
     "output_type": "execute_result"
    }
   ],
   "source": [
    "df.TechSupport.value_counts()"
   ]
  },
  {
   "cell_type": "code",
   "execution_count": 65,
   "metadata": {},
   "outputs": [],
   "source": [
    "df['TechSupport']=df.TechSupport.replace('Yes',2).replace('No',1).replace('No internet service',0)"
   ]
  },
  {
   "cell_type": "code",
   "execution_count": 66,
   "metadata": {},
   "outputs": [
    {
     "data": {
      "text/plain": [
       "1    3473\n",
       "2    2044\n",
       "0    1526\n",
       "Name: TechSupport, dtype: int64"
      ]
     },
     "execution_count": 66,
     "metadata": {},
     "output_type": "execute_result"
    }
   ],
   "source": [
    "df.TechSupport.value_counts()"
   ]
  },
  {
   "cell_type": "markdown",
   "metadata": {},
   "source": [
    "#### 14) 'StreamingTV'\n",
    "Just like the above features, TechSupport feature will also be converted to numeric."
   ]
  },
  {
   "cell_type": "code",
   "execution_count": 67,
   "metadata": {},
   "outputs": [
    {
     "data": {
      "text/plain": [
       "No                     2810\n",
       "Yes                    2707\n",
       "No internet service    1526\n",
       "Name: StreamingTV, dtype: int64"
      ]
     },
     "execution_count": 67,
     "metadata": {},
     "output_type": "execute_result"
    }
   ],
   "source": [
    "df.StreamingTV.value_counts()"
   ]
  },
  {
   "cell_type": "code",
   "execution_count": 68,
   "metadata": {},
   "outputs": [],
   "source": [
    "df['StreamingTV']=df.StreamingTV.replace('Yes',2).replace('No',1).replace('No internet service',0)"
   ]
  },
  {
   "cell_type": "code",
   "execution_count": 69,
   "metadata": {},
   "outputs": [
    {
     "data": {
      "text/plain": [
       "1    2810\n",
       "2    2707\n",
       "0    1526\n",
       "Name: StreamingTV, dtype: int64"
      ]
     },
     "execution_count": 69,
     "metadata": {},
     "output_type": "execute_result"
    }
   ],
   "source": [
    "df.StreamingTV.value_counts()"
   ]
  },
  {
   "cell_type": "markdown",
   "metadata": {},
   "source": [
    "#### 15) 'StreamingMovies'\n",
    "Just like the above features, TechSupport feature will also be converted to numeric. "
   ]
  },
  {
   "cell_type": "code",
   "execution_count": 70,
   "metadata": {},
   "outputs": [
    {
     "data": {
      "text/plain": [
       "No                     2785\n",
       "Yes                    2732\n",
       "No internet service    1526\n",
       "Name: StreamingMovies, dtype: int64"
      ]
     },
     "execution_count": 70,
     "metadata": {},
     "output_type": "execute_result"
    }
   ],
   "source": [
    "df.StreamingMovies.value_counts()"
   ]
  },
  {
   "cell_type": "code",
   "execution_count": 72,
   "metadata": {},
   "outputs": [],
   "source": [
    "df['StreamingMovies']=df.StreamingMovies.replace('Yes',2).replace('No',1).replace('No internet service',0)"
   ]
  },
  {
   "cell_type": "code",
   "execution_count": 73,
   "metadata": {},
   "outputs": [
    {
     "data": {
      "text/plain": [
       "1    2785\n",
       "2    2732\n",
       "0    1526\n",
       "Name: StreamingMovies, dtype: int64"
      ]
     },
     "execution_count": 73,
     "metadata": {},
     "output_type": "execute_result"
    }
   ],
   "source": [
    "df.StreamingMovies.value_counts()"
   ]
  },
  {
   "cell_type": "markdown",
   "metadata": {},
   "source": [
    "#### 16) 'Contract'\n",
    "Contract feature includes 3 different values: Month-to-month , One year, and Two year. Although using get_dummies for this feature is an option, I will convert it into numeric since the values seems to be ordinal: Two year > One year > Month-to-month \n",
    "##### Additional explanation:\n",
    "'MultipleLines', 'InternetService', 'OnlineSecurity', 'OnlineBackup', 'DeviceProtection', 'TechSupport', 'StreamingTV',  'StreamingMovies' and  'Contract' features seem alike. If the correlation between some of themn are very high (like >0.90), we may drop some of these features."
   ]
  },
  {
   "cell_type": "code",
   "execution_count": 74,
   "metadata": {},
   "outputs": [
    {
     "data": {
      "text/plain": [
       "Month-to-month    3875\n",
       "Two year          1695\n",
       "One year          1473\n",
       "Name: Contract, dtype: int64"
      ]
     },
     "execution_count": 74,
     "metadata": {},
     "output_type": "execute_result"
    }
   ],
   "source": [
    "df.Contract.value_counts()"
   ]
  },
  {
   "cell_type": "code",
   "execution_count": 75,
   "metadata": {},
   "outputs": [],
   "source": [
    "df['Contract']=df.Contract.replace('Two year',2).replace('One year',1).replace('Month-to-month',0)"
   ]
  },
  {
   "cell_type": "code",
   "execution_count": 76,
   "metadata": {},
   "outputs": [
    {
     "data": {
      "text/plain": [
       "0    3875\n",
       "2    1695\n",
       "1    1473\n",
       "Name: Contract, dtype: int64"
      ]
     },
     "execution_count": 76,
     "metadata": {},
     "output_type": "execute_result"
    }
   ],
   "source": [
    "df.Contract.value_counts()"
   ]
  },
  {
   "cell_type": "markdown",
   "metadata": {},
   "source": [
    "#### 17) 'PaperlessBilling'\n",
    "PaperlessBilling column should be converted to numeric."
   ]
  },
  {
   "cell_type": "code",
   "execution_count": 77,
   "metadata": {},
   "outputs": [
    {
     "data": {
      "text/plain": [
       "Yes    4171\n",
       "No     2872\n",
       "Name: PaperlessBilling, dtype: int64"
      ]
     },
     "execution_count": 77,
     "metadata": {},
     "output_type": "execute_result"
    }
   ],
   "source": [
    "df.PaperlessBilling.value_counts()"
   ]
  },
  {
   "cell_type": "code",
   "execution_count": 78,
   "metadata": {},
   "outputs": [],
   "source": [
    "df['PaperlessBilling']=df.PaperlessBilling.replace('Yes',1).replace('No',0)"
   ]
  },
  {
   "cell_type": "code",
   "execution_count": 80,
   "metadata": {},
   "outputs": [
    {
     "data": {
      "text/plain": [
       "1    4171\n",
       "0    2872\n",
       "Name: PaperlessBilling, dtype: int64"
      ]
     },
     "execution_count": 80,
     "metadata": {},
     "output_type": "execute_result"
    }
   ],
   "source": [
    "df.PaperlessBilling.value_counts()"
   ]
  },
  {
   "cell_type": "markdown",
   "metadata": {},
   "source": [
    "#### 18) 'PaymentMethod'\n",
    "PaymentMethod feature includes 4 different values. I will do nothing to this column but use get_dummies"
   ]
  },
  {
   "cell_type": "code",
   "execution_count": 81,
   "metadata": {},
   "outputs": [
    {
     "data": {
      "text/plain": [
       "Electronic check             2365\n",
       "Mailed check                 1612\n",
       "Bank transfer (automatic)    1544\n",
       "Credit card (automatic)      1522\n",
       "Name: PaymentMethod, dtype: int64"
      ]
     },
     "execution_count": 81,
     "metadata": {},
     "output_type": "execute_result"
    }
   ],
   "source": [
    "df.PaymentMethod.value_counts()"
   ]
  },
  {
   "cell_type": "markdown",
   "metadata": {},
   "source": [
    "#### 19) 'MonthlyCharges'\n",
    "MonthlyCharges is float and I will not touch it."
   ]
  },
  {
   "cell_type": "code",
   "execution_count": 82,
   "metadata": {},
   "outputs": [
    {
     "data": {
      "text/plain": [
       "20.05     61\n",
       "19.85     45\n",
       "19.95     44\n",
       "19.90     44\n",
       "20.00     43\n",
       "          ..\n",
       "114.75     1\n",
       "103.60     1\n",
       "113.40     1\n",
       "57.65      1\n",
       "113.30     1\n",
       "Name: MonthlyCharges, Length: 1585, dtype: int64"
      ]
     },
     "execution_count": 82,
     "metadata": {},
     "output_type": "execute_result"
    }
   ],
   "source": [
    "df.MonthlyCharges.value_counts()"
   ]
  },
  {
   "cell_type": "code",
   "execution_count": 83,
   "metadata": {},
   "outputs": [
    {
     "data": {
      "text/plain": [
       "count    7043.000000\n",
       "mean       64.761692\n",
       "std        30.090047\n",
       "min        18.250000\n",
       "25%        35.500000\n",
       "50%        70.350000\n",
       "75%        89.850000\n",
       "max       118.750000\n",
       "Name: MonthlyCharges, dtype: float64"
      ]
     },
     "execution_count": 83,
     "metadata": {},
     "output_type": "execute_result"
    }
   ],
   "source": [
    "df.MonthlyCharges.describe()"
   ]
  },
  {
   "cell_type": "code",
   "execution_count": 85,
   "metadata": {},
   "outputs": [
    {
     "data": {
      "image/png": "[encoded data removed]",
      "text/plain": [
       "<Figure size 720x288 with 1 Axes>"
      ]
     },
     "metadata": {
      "needs_background": "light"
     },
     "output_type": "display_data"
    }
   ],
   "source": [
    "plt.figure(figsize=(10,4))\n",
    "sns.distplot(df['MonthlyCharges'], bins=30);"
   ]
  },
  {
   "cell_type": "markdown",
   "metadata": {},
   "source": [
    "#### 20) 'TotalCharges'\n",
    "This feature should be float, but its type seems to be object. Let's correct it."
   ]
  },
  {
   "cell_type": "code",
   "execution_count": 89,
   "metadata": {},
   "outputs": [
    {
     "data": {
      "text/plain": [
       "           11\n",
       "20.2       11\n",
       "19.75       9\n",
       "20.05       8\n",
       "19.9        8\n",
       "           ..\n",
       "646.85      1\n",
       "2727.8      1\n",
       "1911.5      1\n",
       "1222.25     1\n",
       "827.05      1\n",
       "Name: TotalCharges, Length: 6531, dtype: int64"
      ]
     },
     "execution_count": 89,
     "metadata": {},
     "output_type": "execute_result"
    }
   ],
   "source": [
    "df.TotalCharges.value_counts()"
   ]
  },
  {
   "cell_type": "code",
   "execution_count": 122,
   "metadata": {},
   "outputs": [],
   "source": [
    "df['TotalCharges']=pd.to_numeric(df['TotalCharges'], errors='ignore')\n",
    "df['TotalCharges']=pd.to_numeric(df['TotalCharges'], errors='coerce')"
   ]
  },
  {
   "cell_type": "code",
   "execution_count": 123,
   "metadata": {},
   "outputs": [
    {
     "data": {
      "text/plain": [
       "11"
      ]
     },
     "execution_count": 123,
     "metadata": {},
     "output_type": "execute_result"
    }
   ],
   "source": [
    "df.TotalCharges.isnull().sum()"
   ]
  },
  {
   "cell_type": "code",
   "execution_count": 124,
   "metadata": {},
   "outputs": [
    {
     "data": {
      "text/plain": [
       "count    7032.000000\n",
       "mean     2283.300441\n",
       "std      2266.771362\n",
       "min        18.800000\n",
       "25%       401.450000\n",
       "50%      1397.475000\n",
       "75%      3794.737500\n",
       "max      8684.800000\n",
       "Name: TotalCharges, dtype: float64"
      ]
     },
     "execution_count": 124,
     "metadata": {},
     "output_type": "execute_result"
    }
   ],
   "source": [
    "df.TotalCharges.describe()"
   ]
  },
  {
   "cell_type": "code",
   "execution_count": 127,
   "metadata": {},
   "outputs": [],
   "source": [
    "df.dropna(inplace=True)"
   ]
  },
  {
   "cell_type": "markdown",
   "metadata": {},
   "source": [
    "#### 21) 'Churn'\n",
    "This feature is our target, let's convert it into int."
   ]
  },
  {
   "cell_type": "code",
   "execution_count": 133,
   "metadata": {},
   "outputs": [
    {
     "data": {
      "text/plain": [
       "No     5163\n",
       "Yes    1869\n",
       "Name: Churn, dtype: int64"
      ]
     },
     "execution_count": 133,
     "metadata": {},
     "output_type": "execute_result"
    }
   ],
   "source": [
    "df.Churn.value_counts()"
   ]
  },
  {
   "cell_type": "code",
   "execution_count": 134,
   "metadata": {},
   "outputs": [],
   "source": [
    "df['Churn']=df.Churn.replace('Yes',1).replace('No',0)"
   ]
  },
  {
   "cell_type": "code",
   "execution_count": 135,
   "metadata": {},
   "outputs": [
    {
     "data": {
      "text/plain": [
       "0    5163\n",
       "1    1869\n",
       "Name: Churn, dtype: int64"
      ]
     },
     "execution_count": 135,
     "metadata": {},
     "output_type": "execute_result"
    }
   ],
   "source": [
    "df.Churn.value_counts()"
   ]
  },
  {
   "cell_type": "code",
   "execution_count": 136,
   "metadata": {},
   "outputs": [
    {
     "name": "stdout",
     "output_type": "stream",
     "text": [
      "<class 'pandas.core.frame.DataFrame'>\n",
      "Int64Index: 7032 entries, 0 to 7042\n",
      "Data columns (total 20 columns):\n",
      " #   Column            Non-Null Count  Dtype  \n",
      "---  ------            --------------  -----  \n",
      " 0   gender            7032 non-null   int64  \n",
      " 1   SeniorCitizen     7032 non-null   int64  \n",
      " 2   Partner           7032 non-null   int64  \n",
      " 3   Dependents        7032 non-null   int64  \n",
      " 4   tenure            7032 non-null   int64  \n",
      " 5   PhoneService      7032 non-null   int64  \n",
      " 6   MultipleLines     7032 non-null   int64  \n",
      " 7   InternetService   7032 non-null   int64  \n",
      " 8   OnlineSecurity    7032 non-null   int64  \n",
      " 9   OnlineBackup      7032 non-null   int64  \n",
      " 10  DeviceProtection  7032 non-null   int64  \n",
      " 11  TechSupport       7032 non-null   int64  \n",
      " 12  StreamingTV       7032 non-null   int64  \n",
      " 13  StreamingMovies   7032 non-null   int64  \n",
      " 14  Contract          7032 non-null   int64  \n",
      " 15  PaperlessBilling  7032 non-null   int64  \n",
      " 16  PaymentMethod     7032 non-null   object \n",
      " 17  MonthlyCharges    7032 non-null   float64\n",
      " 18  TotalCharges      7032 non-null   float64\n",
      " 19  Churn             7032 non-null   int64  \n",
      "dtypes: float64(2), int64(17), object(1)\n",
      "memory usage: 1.1+ MB\n"
     ]
    }
   ],
   "source": [
    "df.info()"
   ]
  },
  {
   "cell_type": "code",
   "execution_count": 137,
   "metadata": {},
   "outputs": [
    {
     "data": {
      "text/plain": [
       "(7032, 20)"
      ]
     },
     "execution_count": 137,
     "metadata": {},
     "output_type": "execute_result"
    }
   ],
   "source": [
    "df.shape"
   ]
  },
  {
   "cell_type": "code",
   "execution_count": 138,
   "metadata": {},
   "outputs": [],
   "source": [
    "df= pd.get_dummies(df, drop_first=True)"
   ]
  },
  {
   "cell_type": "code",
   "execution_count": 139,
   "metadata": {},
   "outputs": [
    {
     "data": {
      "text/plain": [
       "(7032, 22)"
      ]
     },
     "execution_count": 139,
     "metadata": {},
     "output_type": "execute_result"
    }
   ],
   "source": [
    "df.shape"
   ]
  },
  {
   "cell_type": "code",
   "execution_count": 140,
   "metadata": {},
   "outputs": [
    {
     "data": {
      "image/png": "[encoded data removed]",
      "text/plain": [
       "<Figure size 2304x1296 with 2 Axes>"
      ]
     },
     "metadata": {
      "needs_background": "light"
     },
     "output_type": "display_data"
    }
   ],
   "source": [
    "plt.figure(figsize=(32,18))\n",
    "sns.heatmap(df.corr(), annot=True);"
   ]
  },
  {
   "cell_type": "code",
   "execution_count": 141,
   "metadata": {},
   "outputs": [
    {
     "data": {
      "text/plain": [
       "Contract                                -0.396150\n",
       "tenure                                  -0.354049\n",
       "TotalCharges                            -0.199484\n",
       "Dependents                              -0.163128\n",
       "Partner                                 -0.149982\n",
       "PaymentMethod_Credit card (automatic)   -0.134687\n",
       "PaymentMethod_Mailed check              -0.090773\n",
       "gender                                   0.008545\n",
       "PhoneService                             0.011691\n",
       "OnlineSecurity                           0.023014\n",
       "TechSupport                              0.026744\n",
       "MultipleLines                            0.036148\n",
       "OnlineBackup                             0.073934\n",
       "DeviceProtection                         0.084402\n",
       "SeniorCitizen                            0.150541\n",
       "StreamingMovies                          0.162672\n",
       "StreamingTV                              0.164509\n",
       "PaperlessBilling                         0.191454\n",
       "MonthlyCharges                           0.192858\n",
       "PaymentMethod_Electronic check           0.301455\n",
       "InternetService                          0.316350\n",
       "Churn                                    1.000000\n",
       "Name: Churn, dtype: float64"
      ]
     },
     "execution_count": 141,
     "metadata": {},
     "output_type": "execute_result"
    }
   ],
   "source": [
    "df.corr()['Churn'].sort_values()"
   ]
  },
  {
   "cell_type": "code",
   "execution_count": null,
   "metadata": {},
   "outputs": [],
   "source": []
  },
  {
   "cell_type": "markdown",
   "metadata": {},
   "source": [
    "# 2. Train Test Split"
   ]
  },
  {
   "cell_type": "code",
   "execution_count": 142,
   "metadata": {},
   "outputs": [],
   "source": [
    "X = df.drop('Churn',axis=1).values\n",
    "y = df['Churn'].values\n",
    "from sklearn.model_selection import train_test_split\n",
    "X_train, X_test, y_train, y_test = train_test_split(X,y,test_size=0.25, random_state=33, stratify=y)"
   ]
  },
  {
   "cell_type": "markdown",
   "metadata": {},
   "source": [
    "# 3. Scaling Data"
   ]
  },
  {
   "cell_type": "code",
   "execution_count": 143,
   "metadata": {},
   "outputs": [],
   "source": [
    "from sklearn.preprocessing import MinMaxScaler\n",
    "scaler = MinMaxScaler()\n",
    "X_train = scaler.fit_transform(X_train)\n",
    "X_test = scaler.transform(X_test)"
   ]
  },
  {
   "cell_type": "markdown",
   "metadata": {},
   "source": [
    "# 4.Creating the Model"
   ]
  },
  {
   "cell_type": "code",
   "execution_count": 145,
   "metadata": {},
   "outputs": [],
   "source": [
    "import tensorflow as tf\n",
    "from tensorflow.keras.models import Sequential\n",
    "from tensorflow.keras.layers import Dense, Activation,Dropout\n",
    "from tensorflow.keras.constraints import max_norm\n",
    "from tensorflow.keras.optimizers import Adam"
   ]
  },
  {
   "cell_type": "code",
   "execution_count": 144,
   "metadata": {},
   "outputs": [
    {
     "data": {
      "text/plain": [
       "(5274, 21)"
      ]
     },
     "execution_count": 144,
     "metadata": {},
     "output_type": "execute_result"
    }
   ],
   "source": [
    "X_train.shape"
   ]
  },
  {
   "cell_type": "code",
   "execution_count": 146,
   "metadata": {},
   "outputs": [],
   "source": [
    "model = Sequential()\n",
    "\n",
    "model.add(Dense(units=21,activation='relu'))\n",
    "model.add(Dense(units=21,activation='relu'))\n",
    "model.add(Dense(units=11,activation='relu'))\n",
    "model.add(Dense(units=6,activation='relu'))\n",
    "model.add(Dense(units=1,activation='sigmoid'))\n",
    "\n",
    "opt=Adam(lr=0.0001)\n",
    "model.compile(loss='binary_crossentropy', optimizer=opt)"
   ]
  },
  {
   "cell_type": "markdown",
   "metadata": {},
   "source": [
    "# 5. Training the Model"
   ]
  },
  {
   "cell_type": "code",
   "execution_count": 147,
   "metadata": {
    "collapsed": true,
    "jupyter": {
     "outputs_hidden": true
    }
   },
   "outputs": [
    {
     "name": "stdout",
     "output_type": "stream",
     "text": [
      "Epoch 1/300\n",
      "83/83 [==============================] - 1s 7ms/step - loss: 0.6583 - val_loss: 0.6319\n",
      "Epoch 2/300\n",
      "83/83 [==============================] - 0s 1ms/step - loss: 0.6249 - val_loss: 0.5983\n",
      "Epoch 3/300\n",
      "83/83 [==============================] - 0s 1ms/step - loss: 0.5911 - val_loss: 0.5688\n",
      "Epoch 4/300\n",
      "83/83 [==============================] - 0s 1ms/step - loss: 0.5549 - val_loss: 0.5422\n",
      "Epoch 5/300\n",
      "83/83 [==============================] - 0s 1ms/step - loss: 0.5350 - val_loss: 0.5161\n",
      "Epoch 6/300\n",
      "83/83 [==============================] - 0s 861us/step - loss: 0.5221 - val_loss: 0.4962\n",
      "Epoch 7/300\n",
      "83/83 [==============================] - 0s 1ms/step - loss: 0.4979 - val_loss: 0.4833\n",
      "Epoch 8/300\n",
      "83/83 [==============================] - 0s 1ms/step - loss: 0.4817 - val_loss: 0.4743\n",
      "Epoch 9/300\n",
      "83/83 [==============================] - 0s 1ms/step - loss: 0.4727 - val_loss: 0.4671\n",
      "Epoch 10/300\n",
      "83/83 [==============================] - 0s 1ms/step - loss: 0.4604 - val_loss: 0.4617\n",
      "Epoch 11/300\n",
      "83/83 [==============================] - 0s 1ms/step - loss: 0.4483 - val_loss: 0.4577\n",
      "Epoch 12/300\n",
      "83/83 [==============================] - 0s 1ms/step - loss: 0.4411 - val_loss: 0.4548\n",
      "Epoch 13/300\n",
      "83/83 [==============================] - 0s 1ms/step - loss: 0.4512 - val_loss: 0.4524\n",
      "Epoch 14/300\n",
      "83/83 [==============================] - 0s 1ms/step - loss: 0.4449 - val_loss: 0.4502\n",
      "Epoch 15/300\n",
      "83/83 [==============================] - 0s 1ms/step - loss: 0.4369 - val_loss: 0.4486\n",
      "Epoch 16/300\n",
      "83/83 [==============================] - 0s 1ms/step - loss: 0.4427 - val_loss: 0.4474\n",
      "Epoch 17/300\n",
      "83/83 [==============================] - 0s 1ms/step - loss: 0.4456 - val_loss: 0.4464\n",
      "Epoch 18/300\n",
      "83/83 [==============================] - 0s 1ms/step - loss: 0.4457 - val_loss: 0.4457\n",
      "Epoch 19/300\n",
      "83/83 [==============================] - 0s 1ms/step - loss: 0.4382 - val_loss: 0.4449\n",
      "Epoch 20/300\n",
      "83/83 [==============================] - 0s 1ms/step - loss: 0.4459 - val_loss: 0.4444\n",
      "Epoch 21/300\n",
      "83/83 [==============================] - 0s 1ms/step - loss: 0.4337 - val_loss: 0.4438\n",
      "Epoch 22/300\n",
      "83/83 [==============================] - 0s 1ms/step - loss: 0.4370 - val_loss: 0.4434\n",
      "Epoch 23/300\n",
      "83/83 [==============================] - 0s 1ms/step - loss: 0.4301 - val_loss: 0.4428\n",
      "Epoch 24/300\n",
      "83/83 [==============================] - 0s 1ms/step - loss: 0.4336 - val_loss: 0.4424\n",
      "Epoch 25/300\n",
      "83/83 [==============================] - 0s 1ms/step - loss: 0.4399 - val_loss: 0.4420\n",
      "Epoch 26/300\n",
      "83/83 [==============================] - 0s 1ms/step - loss: 0.4280 - val_loss: 0.4416\n",
      "Epoch 27/300\n",
      "83/83 [==============================] - 0s 1ms/step - loss: 0.4358 - val_loss: 0.4414\n",
      "Epoch 28/300\n",
      "83/83 [==============================] - 0s 1ms/step - loss: 0.4445 - val_loss: 0.4412\n",
      "Epoch 29/300\n",
      "83/83 [==============================] - 0s 1ms/step - loss: 0.4349 - val_loss: 0.4406\n",
      "Epoch 30/300\n",
      "83/83 [==============================] - 0s 1ms/step - loss: 0.4310 - val_loss: 0.4404\n",
      "Epoch 31/300\n",
      "83/83 [==============================] - 0s 1ms/step - loss: 0.4344 - val_loss: 0.4401\n",
      "Epoch 32/300\n",
      "83/83 [==============================] - 0s 1ms/step - loss: 0.4307 - val_loss: 0.4397\n",
      "Epoch 33/300\n",
      "83/83 [==============================] - 0s 1ms/step - loss: 0.4300 - val_loss: 0.4397\n",
      "Epoch 34/300\n",
      "83/83 [==============================] - 0s 1ms/step - loss: 0.4259 - val_loss: 0.4391\n",
      "Epoch 35/300\n",
      "83/83 [==============================] - 0s 1ms/step - loss: 0.4367 - val_loss: 0.4388\n",
      "Epoch 36/300\n",
      "83/83 [==============================] - 0s 1ms/step - loss: 0.4316 - val_loss: 0.4388\n",
      "Epoch 37/300\n",
      "83/83 [==============================] - 0s 1ms/step - loss: 0.4325 - val_loss: 0.4382\n",
      "Epoch 38/300\n",
      "83/83 [==============================] - 0s 1ms/step - loss: 0.4242 - val_loss: 0.4378\n",
      "Epoch 39/300\n",
      "83/83 [==============================] - 0s 1ms/step - loss: 0.4269 - val_loss: 0.4375\n",
      "Epoch 40/300\n",
      "83/83 [==============================] - 0s 1ms/step - loss: 0.4463 - val_loss: 0.4373\n",
      "Epoch 41/300\n",
      "83/83 [==============================] - 0s 1ms/step - loss: 0.4254 - val_loss: 0.4370\n",
      "Epoch 42/300\n",
      "83/83 [==============================] - 0s 1ms/step - loss: 0.4325 - val_loss: 0.4370\n",
      "Epoch 43/300\n",
      "83/83 [==============================] - 0s 1ms/step - loss: 0.4250 - val_loss: 0.4364\n",
      "Epoch 44/300\n",
      "83/83 [==============================] - 0s 1ms/step - loss: 0.4271 - val_loss: 0.4361\n",
      "Epoch 45/300\n",
      "83/83 [==============================] - 0s 1ms/step - loss: 0.4326 - val_loss: 0.4363\n",
      "Epoch 46/300\n",
      "83/83 [==============================] - 0s 1ms/step - loss: 0.4322 - val_loss: 0.4356\n",
      "Epoch 47/300\n",
      "83/83 [==============================] - 0s 1ms/step - loss: 0.4329 - val_loss: 0.4353\n",
      "Epoch 48/300\n",
      "83/83 [==============================] - 0s 1ms/step - loss: 0.4231 - val_loss: 0.4350\n",
      "Epoch 49/300\n",
      "83/83 [==============================] - 0s 1ms/step - loss: 0.4116 - val_loss: 0.4349\n",
      "Epoch 50/300\n",
      "83/83 [==============================] - 0s 1ms/step - loss: 0.4246 - val_loss: 0.4345\n",
      "Epoch 51/300\n",
      "83/83 [==============================] - 0s 1ms/step - loss: 0.4237 - val_loss: 0.4343\n",
      "Epoch 52/300\n",
      "83/83 [==============================] - 0s 1ms/step - loss: 0.4273 - val_loss: 0.4340\n",
      "Epoch 53/300\n",
      "83/83 [==============================] - 0s 1ms/step - loss: 0.4235 - val_loss: 0.4340\n",
      "Epoch 54/300\n",
      "83/83 [==============================] - 0s 1ms/step - loss: 0.4333 - val_loss: 0.4337\n",
      "Epoch 55/300\n",
      "83/83 [==============================] - 0s 1ms/step - loss: 0.4253 - val_loss: 0.4335\n",
      "Epoch 56/300\n",
      "83/83 [==============================] - 0s 1ms/step - loss: 0.4193 - val_loss: 0.4333\n",
      "Epoch 57/300\n",
      "83/83 [==============================] - 0s 1ms/step - loss: 0.4271 - val_loss: 0.4333\n",
      "Epoch 58/300\n",
      "83/83 [==============================] - 0s 1ms/step - loss: 0.4235 - val_loss: 0.4330\n",
      "Epoch 59/300\n",
      "83/83 [==============================] - 0s 1ms/step - loss: 0.4143 - val_loss: 0.4329\n",
      "Epoch 60/300\n",
      "83/83 [==============================] - 0s 1ms/step - loss: 0.4203 - val_loss: 0.4328\n",
      "Epoch 61/300\n",
      "83/83 [==============================] - 0s 1ms/step - loss: 0.4246 - val_loss: 0.4325\n",
      "Epoch 62/300\n",
      "83/83 [==============================] - 0s 1ms/step - loss: 0.4272 - val_loss: 0.4324\n",
      "Epoch 63/300\n",
      "83/83 [==============================] - 0s 1ms/step - loss: 0.4237 - val_loss: 0.4323\n",
      "Epoch 64/300\n",
      "83/83 [==============================] - 0s 1ms/step - loss: 0.4284 - val_loss: 0.4320\n",
      "Epoch 65/300\n",
      "83/83 [==============================] - 0s 1ms/step - loss: 0.4133 - val_loss: 0.4319\n",
      "Epoch 66/300\n",
      "83/83 [==============================] - 0s 1ms/step - loss: 0.4118 - val_loss: 0.4319\n",
      "Epoch 67/300\n",
      "83/83 [==============================] - 0s 1ms/step - loss: 0.4184 - val_loss: 0.4316\n",
      "Epoch 68/300\n",
      "83/83 [==============================] - 0s 1ms/step - loss: 0.4142 - val_loss: 0.4315\n",
      "Epoch 69/300\n",
      "83/83 [==============================] - 0s 1ms/step - loss: 0.4207 - val_loss: 0.4314\n",
      "Epoch 70/300\n",
      "83/83 [==============================] - 0s 1ms/step - loss: 0.4295 - val_loss: 0.4312\n",
      "Epoch 71/300\n",
      "83/83 [==============================] - 0s 1ms/step - loss: 0.4290 - val_loss: 0.4312\n",
      "Epoch 72/300\n",
      "83/83 [==============================] - 0s 1ms/step - loss: 0.4179 - val_loss: 0.4309\n",
      "Epoch 73/300\n",
      "83/83 [==============================] - 0s 1ms/step - loss: 0.4081 - val_loss: 0.4308\n",
      "Epoch 74/300\n",
      "83/83 [==============================] - 0s 1ms/step - loss: 0.4152 - val_loss: 0.4305\n",
      "Epoch 75/300\n",
      "83/83 [==============================] - 0s 1ms/step - loss: 0.4353 - val_loss: 0.4304\n",
      "Epoch 76/300\n",
      "83/83 [==============================] - 0s 1ms/step - loss: 0.4030 - val_loss: 0.4302\n",
      "Epoch 77/300\n",
      "83/83 [==============================] - 0s 1ms/step - loss: 0.4219 - val_loss: 0.4302\n",
      "Epoch 78/300\n",
      "83/83 [==============================] - 0s 1ms/step - loss: 0.4314 - val_loss: 0.4300\n",
      "Epoch 79/300\n",
      "83/83 [==============================] - 0s 1ms/step - loss: 0.4112 - val_loss: 0.4299\n",
      "Epoch 80/300\n",
      "83/83 [==============================] - 0s 1ms/step - loss: 0.4238 - val_loss: 0.4296\n",
      "Epoch 81/300\n",
      "83/83 [==============================] - 0s 1ms/step - loss: 0.4153 - val_loss: 0.4295\n",
      "Epoch 82/300\n",
      "83/83 [==============================] - 0s 1ms/step - loss: 0.4206 - val_loss: 0.4294\n",
      "Epoch 83/300\n",
      "83/83 [==============================] - 0s 1ms/step - loss: 0.4122 - val_loss: 0.4292\n",
      "Epoch 84/300\n",
      "83/83 [==============================] - 0s 1ms/step - loss: 0.4083 - val_loss: 0.4291\n",
      "Epoch 85/300\n",
      "83/83 [==============================] - 0s 1ms/step - loss: 0.4198 - val_loss: 0.4290\n",
      "Epoch 86/300\n",
      "83/83 [==============================] - 0s 1ms/step - loss: 0.4213 - val_loss: 0.4289\n",
      "Epoch 87/300\n",
      "83/83 [==============================] - 0s 1ms/step - loss: 0.4242 - val_loss: 0.4289\n",
      "Epoch 88/300\n",
      "83/83 [==============================] - 0s 1ms/step - loss: 0.4114 - val_loss: 0.4287\n",
      "Epoch 89/300\n",
      "83/83 [==============================] - 0s 1ms/step - loss: 0.4147 - val_loss: 0.4285\n",
      "Epoch 90/300\n",
      "83/83 [==============================] - 0s 972us/step - loss: 0.4218 - val_loss: 0.4284\n",
      "Epoch 91/300\n",
      "83/83 [==============================] - 0s 942us/step - loss: 0.4179 - val_loss: 0.4283\n",
      "Epoch 92/300\n",
      "83/83 [==============================] - 0s 976us/step - loss: 0.4122 - val_loss: 0.4283\n",
      "Epoch 93/300\n",
      "83/83 [==============================] - 0s 957us/step - loss: 0.4121 - val_loss: 0.4281\n",
      "Epoch 94/300\n",
      "83/83 [==============================] - 0s 1ms/step - loss: 0.4172 - val_loss: 0.4282\n",
      "Epoch 95/300\n",
      "83/83 [==============================] - 0s 987us/step - loss: 0.4156 - val_loss: 0.4279\n",
      "Epoch 96/300\n",
      "83/83 [==============================] - 0s 955us/step - loss: 0.4103 - val_loss: 0.4278\n",
      "Epoch 97/300\n",
      "83/83 [==============================] - 0s 1ms/step - loss: 0.4038 - val_loss: 0.4278\n",
      "Epoch 98/300\n",
      "83/83 [==============================] - 0s 1ms/step - loss: 0.4038 - val_loss: 0.4277\n",
      "Epoch 99/300\n",
      "83/83 [==============================] - 0s 1ms/step - loss: 0.4156 - val_loss: 0.4276\n",
      "Epoch 100/300\n",
      "83/83 [==============================] - 0s 1ms/step - loss: 0.4221 - val_loss: 0.4276\n",
      "Epoch 101/300\n",
      "83/83 [==============================] - 0s 1ms/step - loss: 0.4145 - val_loss: 0.4274\n",
      "Epoch 102/300\n",
      "83/83 [==============================] - 0s 1ms/step - loss: 0.4124 - val_loss: 0.4273\n",
      "Epoch 103/300\n",
      "83/83 [==============================] - 0s 1ms/step - loss: 0.4163 - val_loss: 0.4273\n",
      "Epoch 104/300\n",
      "83/83 [==============================] - 0s 1ms/step - loss: 0.4168 - val_loss: 0.4272\n",
      "Epoch 105/300\n",
      "83/83 [==============================] - 0s 1ms/step - loss: 0.4140 - val_loss: 0.4272\n",
      "Epoch 106/300\n",
      "83/83 [==============================] - 0s 953us/step - loss: 0.4124 - val_loss: 0.4272\n",
      "Epoch 107/300\n",
      "83/83 [==============================] - 0s 1ms/step - loss: 0.4129 - val_loss: 0.4270\n",
      "Epoch 108/300\n",
      "83/83 [==============================] - 0s 1ms/step - loss: 0.4130 - val_loss: 0.4270\n",
      "Epoch 109/300\n",
      "83/83 [==============================] - 0s 971us/step - loss: 0.4149 - val_loss: 0.4268\n",
      "Epoch 110/300\n",
      "83/83 [==============================] - 0s 1ms/step - loss: 0.4113 - val_loss: 0.4267\n",
      "Epoch 111/300\n",
      "83/83 [==============================] - 0s 995us/step - loss: 0.4133 - val_loss: 0.4266\n",
      "Epoch 112/300\n",
      "83/83 [==============================] - 0s 1ms/step - loss: 0.4237 - val_loss: 0.4266\n",
      "Epoch 113/300\n",
      "83/83 [==============================] - 0s 1ms/step - loss: 0.4312 - val_loss: 0.4267\n",
      "Epoch 114/300\n",
      "83/83 [==============================] - 0s 990us/step - loss: 0.4141 - val_loss: 0.4266\n",
      "Epoch 115/300\n",
      "83/83 [==============================] - 0s 969us/step - loss: 0.4117 - val_loss: 0.4265\n",
      "Epoch 116/300\n",
      "83/83 [==============================] - 0s 1ms/step - loss: 0.4225 - val_loss: 0.4265\n",
      "Epoch 117/300\n",
      "83/83 [==============================] - 0s 1ms/step - loss: 0.4169 - val_loss: 0.4264\n",
      "Epoch 118/300\n",
      "83/83 [==============================] - 0s 981us/step - loss: 0.4206 - val_loss: 0.4263\n",
      "Epoch 119/300\n",
      "83/83 [==============================] - 0s 1ms/step - loss: 0.4072 - val_loss: 0.4263\n",
      "Epoch 120/300\n",
      "83/83 [==============================] - 0s 1ms/step - loss: 0.4104 - val_loss: 0.4261\n",
      "Epoch 121/300\n",
      "83/83 [==============================] - 0s 1ms/step - loss: 0.4109 - val_loss: 0.4261\n",
      "Epoch 122/300\n",
      "83/83 [==============================] - 0s 1ms/step - loss: 0.4085 - val_loss: 0.4261\n",
      "Epoch 123/300\n",
      "83/83 [==============================] - 0s 1ms/step - loss: 0.4083 - val_loss: 0.4260\n",
      "Epoch 124/300\n",
      "83/83 [==============================] - 0s 1ms/step - loss: 0.4193 - val_loss: 0.4260\n",
      "Epoch 125/300\n",
      "83/83 [==============================] - 0s 1ms/step - loss: 0.4096 - val_loss: 0.4260\n",
      "Epoch 126/300\n",
      "83/83 [==============================] - 0s 1ms/step - loss: 0.4203 - val_loss: 0.4259\n",
      "Epoch 127/300\n",
      "83/83 [==============================] - 0s 958us/step - loss: 0.4097 - val_loss: 0.4258\n",
      "Epoch 128/300\n",
      "83/83 [==============================] - 0s 980us/step - loss: 0.4119 - val_loss: 0.4257\n",
      "Epoch 129/300\n",
      "83/83 [==============================] - 0s 977us/step - loss: 0.4147 - val_loss: 0.4256\n",
      "Epoch 130/300\n",
      "83/83 [==============================] - 0s 946us/step - loss: 0.4078 - val_loss: 0.4261\n",
      "Epoch 131/300\n",
      "83/83 [==============================] - 0s 941us/step - loss: 0.4203 - val_loss: 0.4255\n",
      "Epoch 132/300\n",
      "83/83 [==============================] - 0s 949us/step - loss: 0.3990 - val_loss: 0.4255\n",
      "Epoch 133/300\n",
      "83/83 [==============================] - 0s 950us/step - loss: 0.4125 - val_loss: 0.4254\n",
      "Epoch 134/300\n",
      "83/83 [==============================] - 0s 1ms/step - loss: 0.3982 - val_loss: 0.4259\n",
      "Epoch 135/300\n",
      "83/83 [==============================] - 0s 1ms/step - loss: 0.4009 - val_loss: 0.4254\n",
      "Epoch 136/300\n",
      "83/83 [==============================] - 0s 1ms/step - loss: 0.4027 - val_loss: 0.4253\n",
      "Epoch 137/300\n",
      "83/83 [==============================] - 0s 1ms/step - loss: 0.4125 - val_loss: 0.4253\n",
      "Epoch 138/300\n",
      "83/83 [==============================] - 0s 1ms/step - loss: 0.4122 - val_loss: 0.4252\n",
      "Epoch 139/300\n",
      "83/83 [==============================] - 0s 1ms/step - loss: 0.4185 - val_loss: 0.4252\n",
      "Epoch 140/300\n",
      "83/83 [==============================] - 0s 991us/step - loss: 0.4076 - val_loss: 0.4252\n",
      "Epoch 141/300\n",
      "83/83 [==============================] - 0s 956us/step - loss: 0.4169 - val_loss: 0.4250\n",
      "Epoch 142/300\n",
      "83/83 [==============================] - 0s 1ms/step - loss: 0.4031 - val_loss: 0.4251\n",
      "Epoch 143/300\n",
      "83/83 [==============================] - 0s 1ms/step - loss: 0.4076 - val_loss: 0.4250\n",
      "Epoch 144/300\n",
      "83/83 [==============================] - 0s 990us/step - loss: 0.4066 - val_loss: 0.4250\n",
      "Epoch 145/300\n",
      "83/83 [==============================] - 0s 1ms/step - loss: 0.4026 - val_loss: 0.4253\n",
      "Epoch 146/300\n",
      "83/83 [==============================] - 0s 1ms/step - loss: 0.4100 - val_loss: 0.4250\n",
      "Epoch 147/300\n",
      "83/83 [==============================] - 0s 999us/step - loss: 0.4150 - val_loss: 0.4249\n",
      "Epoch 148/300\n",
      "83/83 [==============================] - 0s 1ms/step - loss: 0.4034 - val_loss: 0.4250\n",
      "Epoch 149/300\n",
      "83/83 [==============================] - 0s 1ms/step - loss: 0.3967 - val_loss: 0.4248\n",
      "Epoch 150/300\n",
      "83/83 [==============================] - 0s 1ms/step - loss: 0.3979 - val_loss: 0.4247\n",
      "Epoch 151/300\n",
      "83/83 [==============================] - 0s 1ms/step - loss: 0.4081 - val_loss: 0.4247\n",
      "Epoch 152/300\n",
      "83/83 [==============================] - 0s 1ms/step - loss: 0.4090 - val_loss: 0.4247\n",
      "Epoch 153/300\n",
      "83/83 [==============================] - 0s 1ms/step - loss: 0.4166 - val_loss: 0.4247\n",
      "Epoch 154/300\n",
      "83/83 [==============================] - 0s 998us/step - loss: 0.4046 - val_loss: 0.4250\n",
      "Epoch 155/300\n",
      "83/83 [==============================] - 0s 1ms/step - loss: 0.4054 - val_loss: 0.4248\n",
      "Epoch 156/300\n",
      "83/83 [==============================] - 0s 1ms/step - loss: 0.4031 - val_loss: 0.4247\n",
      "Epoch 157/300\n",
      "83/83 [==============================] - 0s 1ms/step - loss: 0.4007 - val_loss: 0.4246\n",
      "Epoch 158/300\n",
      "83/83 [==============================] - 0s 986us/step - loss: 0.4138 - val_loss: 0.4247\n",
      "Epoch 159/300\n",
      "83/83 [==============================] - 0s 1ms/step - loss: 0.4132 - val_loss: 0.4247\n",
      "Epoch 160/300\n",
      "83/83 [==============================] - 0s 997us/step - loss: 0.4057 - val_loss: 0.4246\n",
      "Epoch 161/300\n",
      "83/83 [==============================] - 0s 1ms/step - loss: 0.4121 - val_loss: 0.4248\n",
      "Epoch 162/300\n",
      "83/83 [==============================] - 0s 1ms/step - loss: 0.3943 - val_loss: 0.4247\n",
      "Epoch 163/300\n",
      "83/83 [==============================] - 0s 1ms/step - loss: 0.3927 - val_loss: 0.4245\n",
      "Epoch 164/300\n",
      "83/83 [==============================] - 0s 1ms/step - loss: 0.4151 - val_loss: 0.4245\n",
      "Epoch 165/300\n",
      "83/83 [==============================] - 0s 1ms/step - loss: 0.4037 - val_loss: 0.4245\n",
      "Epoch 166/300\n",
      "83/83 [==============================] - 0s 1ms/step - loss: 0.3951 - val_loss: 0.4244\n",
      "Epoch 167/300\n",
      "83/83 [==============================] - 0s 1ms/step - loss: 0.3946 - val_loss: 0.4246\n",
      "Epoch 168/300\n",
      "83/83 [==============================] - 0s 1ms/step - loss: 0.4063 - val_loss: 0.4248\n",
      "Epoch 169/300\n",
      "83/83 [==============================] - 0s 1ms/step - loss: 0.4116 - val_loss: 0.4245\n",
      "Epoch 170/300\n",
      "83/83 [==============================] - 0s 1ms/step - loss: 0.4056 - val_loss: 0.4244\n",
      "Epoch 171/300\n",
      "83/83 [==============================] - 0s 1ms/step - loss: 0.4120 - val_loss: 0.4245\n",
      "Epoch 172/300\n",
      "83/83 [==============================] - 0s 1ms/step - loss: 0.3997 - val_loss: 0.4243\n",
      "Epoch 173/300\n",
      "83/83 [==============================] - 0s 1ms/step - loss: 0.4093 - val_loss: 0.4243\n",
      "Epoch 174/300\n",
      "83/83 [==============================] - 0s 1ms/step - loss: 0.4045 - val_loss: 0.4243\n",
      "Epoch 175/300\n",
      "83/83 [==============================] - 0s 1ms/step - loss: 0.4112 - val_loss: 0.4244\n",
      "Epoch 176/300\n",
      "83/83 [==============================] - 0s 1ms/step - loss: 0.4091 - val_loss: 0.4243\n",
      "Epoch 177/300\n",
      "83/83 [==============================] - 0s 1ms/step - loss: 0.4077 - val_loss: 0.4243\n",
      "Epoch 178/300\n",
      "83/83 [==============================] - 0s 1ms/step - loss: 0.4018 - val_loss: 0.4242\n",
      "Epoch 179/300\n",
      "83/83 [==============================] - 0s 1ms/step - loss: 0.4057 - val_loss: 0.4242\n",
      "Epoch 180/300\n",
      "83/83 [==============================] - 0s 1ms/step - loss: 0.4045 - val_loss: 0.4242\n",
      "Epoch 181/300\n",
      "83/83 [==============================] - 0s 1ms/step - loss: 0.4112 - val_loss: 0.4240\n",
      "Epoch 182/300\n",
      "83/83 [==============================] - 0s 989us/step - loss: 0.4053 - val_loss: 0.4242\n",
      "Epoch 183/300\n",
      "83/83 [==============================] - 0s 1ms/step - loss: 0.4083 - val_loss: 0.4241\n",
      "Epoch 184/300\n",
      "83/83 [==============================] - 0s 1ms/step - loss: 0.4017 - val_loss: 0.4243\n",
      "Epoch 185/300\n",
      "83/83 [==============================] - 0s 1ms/step - loss: 0.4090 - val_loss: 0.4241\n",
      "Epoch 186/300\n",
      "83/83 [==============================] - 0s 1ms/step - loss: 0.4007 - val_loss: 0.4242\n",
      "Epoch 187/300\n",
      "83/83 [==============================] - 0s 1ms/step - loss: 0.4117 - val_loss: 0.4241\n",
      "Epoch 188/300\n",
      "83/83 [==============================] - 0s 989us/step - loss: 0.3873 - val_loss: 0.4242\n",
      "Epoch 189/300\n",
      "83/83 [==============================] - 0s 1ms/step - loss: 0.4072 - val_loss: 0.4240\n",
      "Epoch 190/300\n",
      "83/83 [==============================] - 0s 1ms/step - loss: 0.4052 - val_loss: 0.4240\n",
      "Epoch 191/300\n",
      "83/83 [==============================] - 0s 1ms/step - loss: 0.4130 - val_loss: 0.4242\n",
      "Epoch 192/300\n",
      "83/83 [==============================] - 0s 1ms/step - loss: 0.3964 - val_loss: 0.4241\n",
      "Epoch 193/300\n",
      "83/83 [==============================] - 0s 1ms/step - loss: 0.3987 - val_loss: 0.4240\n",
      "Epoch 194/300\n",
      "83/83 [==============================] - 0s 1ms/step - loss: 0.4060 - val_loss: 0.4240\n",
      "Epoch 195/300\n",
      "83/83 [==============================] - 0s 1ms/step - loss: 0.4147 - val_loss: 0.4240\n",
      "Epoch 196/300\n",
      "83/83 [==============================] - 0s 957us/step - loss: 0.4083 - val_loss: 0.4243\n",
      "Epoch 197/300\n",
      "83/83 [==============================] - 0s 996us/step - loss: 0.4064 - val_loss: 0.4240\n",
      "Epoch 198/300\n",
      "83/83 [==============================] - 0s 1ms/step - loss: 0.4196 - val_loss: 0.4245\n",
      "Epoch 199/300\n",
      "83/83 [==============================] - 0s 1ms/step - loss: 0.4128 - val_loss: 0.4241\n",
      "Epoch 200/300\n",
      "83/83 [==============================] - 0s 1ms/step - loss: 0.4028 - val_loss: 0.4241\n",
      "Epoch 201/300\n",
      "83/83 [==============================] - 0s 1ms/step - loss: 0.4054 - val_loss: 0.4241\n",
      "Epoch 202/300\n",
      "83/83 [==============================] - 0s 1ms/step - loss: 0.4052 - val_loss: 0.4241\n",
      "Epoch 203/300\n",
      "83/83 [==============================] - 0s 1ms/step - loss: 0.4100 - val_loss: 0.4240\n",
      "Epoch 204/300\n",
      "83/83 [==============================] - 0s 1ms/step - loss: 0.4126 - val_loss: 0.4241\n",
      "Epoch 205/300\n",
      "83/83 [==============================] - 0s 1ms/step - loss: 0.4077 - val_loss: 0.4240\n",
      "Epoch 206/300\n",
      "83/83 [==============================] - 0s 1ms/step - loss: 0.4081 - val_loss: 0.4240\n",
      "Epoch 207/300\n",
      "83/83 [==============================] - 0s 1ms/step - loss: 0.4189 - val_loss: 0.4243\n",
      "Epoch 208/300\n",
      "83/83 [==============================] - 0s 1ms/step - loss: 0.4049 - val_loss: 0.4240\n",
      "Epoch 209/300\n",
      "83/83 [==============================] - 0s 1ms/step - loss: 0.3971 - val_loss: 0.4242\n",
      "Epoch 210/300\n",
      "83/83 [==============================] - 0s 1ms/step - loss: 0.4120 - val_loss: 0.4240\n",
      "Epoch 211/300\n",
      "83/83 [==============================] - 0s 1ms/step - loss: 0.3932 - val_loss: 0.4240\n",
      "Epoch 212/300\n",
      "83/83 [==============================] - 0s 1ms/step - loss: 0.4139 - val_loss: 0.4241\n",
      "Epoch 213/300\n",
      "83/83 [==============================] - 0s 999us/step - loss: 0.4019 - val_loss: 0.4242\n",
      "Epoch 214/300\n",
      "83/83 [==============================] - 0s 1ms/step - loss: 0.3989 - val_loss: 0.4240\n",
      "Epoch 215/300\n",
      "83/83 [==============================] - 0s 996us/step - loss: 0.3997 - val_loss: 0.4244\n",
      "Epoch 216/300\n",
      "83/83 [==============================] - 0s 944us/step - loss: 0.4067 - val_loss: 0.4242\n",
      "Epoch 217/300\n",
      "83/83 [==============================] - 0s 1ms/step - loss: 0.3981 - val_loss: 0.4242\n",
      "Epoch 218/300\n",
      "83/83 [==============================] - 0s 1ms/step - loss: 0.3982 - val_loss: 0.4242\n",
      "Epoch 219/300\n",
      "83/83 [==============================] - 0s 1ms/step - loss: 0.4064 - val_loss: 0.4243\n",
      "Epoch 220/300\n",
      "83/83 [==============================] - 0s 1ms/step - loss: 0.3997 - val_loss: 0.4242\n",
      "Epoch 221/300\n",
      "83/83 [==============================] - 0s 1ms/step - loss: 0.4180 - val_loss: 0.4241\n",
      "Epoch 222/300\n",
      "83/83 [==============================] - 0s 1ms/step - loss: 0.4068 - val_loss: 0.4243\n",
      "Epoch 223/300\n",
      "83/83 [==============================] - 0s 1ms/step - loss: 0.4005 - val_loss: 0.4244\n",
      "Epoch 224/300\n",
      "83/83 [==============================] - 0s 1ms/step - loss: 0.4112 - val_loss: 0.4243\n",
      "Epoch 225/300\n",
      "83/83 [==============================] - 0s 1ms/step - loss: 0.3948 - val_loss: 0.4248\n",
      "Epoch 226/300\n",
      "83/83 [==============================] - 0s 1ms/step - loss: 0.3995 - val_loss: 0.4242\n",
      "Epoch 227/300\n",
      "83/83 [==============================] - 0s 1ms/step - loss: 0.4010 - val_loss: 0.4242\n",
      "Epoch 228/300\n",
      "83/83 [==============================] - 0s 1ms/step - loss: 0.3857 - val_loss: 0.4243\n",
      "Epoch 229/300\n",
      "83/83 [==============================] - 0s 1ms/step - loss: 0.4004 - val_loss: 0.4242\n",
      "Epoch 230/300\n",
      "83/83 [==============================] - 0s 1ms/step - loss: 0.4052 - val_loss: 0.4242\n",
      "Epoch 231/300\n",
      "83/83 [==============================] - 0s 1ms/step - loss: 0.4009 - val_loss: 0.4243\n",
      "Epoch 232/300\n",
      "83/83 [==============================] - 0s 1ms/step - loss: 0.4186 - val_loss: 0.4246\n",
      "Epoch 233/300\n",
      "83/83 [==============================] - 0s 1ms/step - loss: 0.4022 - val_loss: 0.4245\n",
      "Epoch 234/300\n",
      "83/83 [==============================] - 0s 998us/step - loss: 0.4090 - val_loss: 0.4245\n",
      "Epoch 235/300\n",
      "83/83 [==============================] - 0s 1ms/step - loss: 0.4091 - val_loss: 0.4245\n",
      "Epoch 236/300\n",
      "83/83 [==============================] - 0s 1ms/step - loss: 0.3988 - val_loss: 0.4244\n",
      "Epoch 237/300\n",
      "83/83 [==============================] - 0s 1ms/step - loss: 0.4065 - val_loss: 0.4245\n",
      "Epoch 238/300\n",
      "83/83 [==============================] - 0s 1ms/step - loss: 0.4107 - val_loss: 0.4244\n",
      "Epoch 239/300\n",
      "83/83 [==============================] - 0s 1ms/step - loss: 0.4007 - val_loss: 0.4244\n",
      "Epoch 240/300\n",
      "83/83 [==============================] - 0s 1ms/step - loss: 0.4085 - val_loss: 0.4245\n",
      "Epoch 241/300\n",
      "83/83 [==============================] - 0s 1ms/step - loss: 0.4107 - val_loss: 0.4244\n",
      "Epoch 242/300\n",
      "83/83 [==============================] - 0s 1ms/step - loss: 0.4044 - val_loss: 0.4245\n",
      "Epoch 243/300\n",
      "83/83 [==============================] - 0s 1ms/step - loss: 0.3975 - val_loss: 0.4245\n",
      "Epoch 244/300\n",
      "83/83 [==============================] - 0s 1ms/step - loss: 0.4019 - val_loss: 0.4246\n",
      "Epoch 245/300\n",
      "83/83 [==============================] - 0s 1ms/step - loss: 0.4131 - val_loss: 0.4246\n",
      "Epoch 246/300\n",
      "83/83 [==============================] - 0s 1ms/step - loss: 0.4067 - val_loss: 0.4245\n",
      "Epoch 247/300\n",
      "83/83 [==============================] - 0s 1ms/step - loss: 0.3958 - val_loss: 0.4246\n",
      "Epoch 248/300\n",
      "83/83 [==============================] - 0s 1ms/step - loss: 0.3971 - val_loss: 0.4247\n",
      "Epoch 249/300\n",
      "83/83 [==============================] - 0s 1ms/step - loss: 0.4042 - val_loss: 0.4245\n",
      "Epoch 250/300\n",
      "83/83 [==============================] - 0s 1ms/step - loss: 0.4092 - val_loss: 0.4247\n",
      "Epoch 251/300\n",
      "83/83 [==============================] - 0s 1ms/step - loss: 0.3928 - val_loss: 0.4246\n",
      "Epoch 252/300\n",
      "83/83 [==============================] - 0s 1ms/step - loss: 0.4101 - val_loss: 0.4249\n",
      "Epoch 253/300\n",
      "83/83 [==============================] - 0s 1ms/step - loss: 0.3887 - val_loss: 0.4254\n",
      "Epoch 254/300\n",
      "83/83 [==============================] - 0s 1ms/step - loss: 0.4051 - val_loss: 0.4246\n",
      "Epoch 255/300\n",
      "83/83 [==============================] - 0s 1ms/step - loss: 0.3889 - val_loss: 0.4246\n",
      "Epoch 256/300\n",
      "83/83 [==============================] - 0s 1ms/step - loss: 0.3954 - val_loss: 0.4245\n",
      "Epoch 257/300\n",
      "83/83 [==============================] - 0s 1ms/step - loss: 0.4044 - val_loss: 0.4247\n",
      "Epoch 258/300\n",
      "83/83 [==============================] - 0s 1ms/step - loss: 0.4024 - val_loss: 0.4247\n",
      "Epoch 259/300\n",
      "83/83 [==============================] - 0s 1ms/step - loss: 0.3938 - val_loss: 0.4246\n",
      "Epoch 260/300\n",
      "83/83 [==============================] - 0s 1ms/step - loss: 0.3941 - val_loss: 0.4248\n",
      "Epoch 261/300\n",
      "83/83 [==============================] - 0s 1ms/step - loss: 0.4006 - val_loss: 0.4248\n",
      "Epoch 262/300\n",
      "83/83 [==============================] - 0s 1ms/step - loss: 0.4056 - val_loss: 0.4246\n",
      "Epoch 263/300\n",
      "83/83 [==============================] - 0s 1ms/step - loss: 0.3924 - val_loss: 0.4247\n",
      "Epoch 264/300\n",
      "83/83 [==============================] - 0s 1ms/step - loss: 0.3841 - val_loss: 0.4248\n",
      "Epoch 265/300\n",
      "83/83 [==============================] - 0s 1ms/step - loss: 0.3877 - val_loss: 0.4252\n",
      "Epoch 266/300\n",
      "83/83 [==============================] - 0s 1ms/step - loss: 0.4083 - val_loss: 0.4248\n",
      "Epoch 267/300\n",
      "83/83 [==============================] - 0s 1ms/step - loss: 0.4014 - val_loss: 0.4249\n",
      "Epoch 268/300\n",
      "83/83 [==============================] - 0s 1ms/step - loss: 0.3983 - val_loss: 0.4248\n",
      "Epoch 269/300\n",
      "83/83 [==============================] - 0s 1ms/step - loss: 0.4057 - val_loss: 0.4249\n",
      "Epoch 270/300\n",
      "83/83 [==============================] - 0s 1ms/step - loss: 0.4026 - val_loss: 0.4249\n",
      "Epoch 271/300\n",
      "83/83 [==============================] - 0s 1ms/step - loss: 0.4022 - val_loss: 0.4249\n",
      "Epoch 272/300\n",
      "83/83 [==============================] - 0s 1ms/step - loss: 0.3947 - val_loss: 0.4250\n",
      "Epoch 273/300\n",
      "83/83 [==============================] - 0s 1ms/step - loss: 0.3946 - val_loss: 0.4250\n",
      "Epoch 274/300\n",
      "83/83 [==============================] - 0s 1ms/step - loss: 0.3938 - val_loss: 0.4250\n",
      "Epoch 275/300\n",
      "83/83 [==============================] - 0s 1ms/step - loss: 0.3937 - val_loss: 0.4250\n",
      "Epoch 276/300\n",
      "83/83 [==============================] - 0s 1ms/step - loss: 0.4009 - val_loss: 0.4251\n",
      "Epoch 277/300\n",
      "83/83 [==============================] - 0s 973us/step - loss: 0.4080 - val_loss: 0.4251\n",
      "Epoch 278/300\n",
      "83/83 [==============================] - 0s 972us/step - loss: 0.3947 - val_loss: 0.4253\n",
      "Epoch 279/300\n",
      "83/83 [==============================] - 0s 979us/step - loss: 0.3996 - val_loss: 0.4251\n",
      "Epoch 280/300\n",
      "83/83 [==============================] - 0s 993us/step - loss: 0.3954 - val_loss: 0.4252\n",
      "Epoch 281/300\n",
      "83/83 [==============================] - 0s 1ms/step - loss: 0.4084 - val_loss: 0.4254\n",
      "Epoch 282/300\n",
      "83/83 [==============================] - 0s 978us/step - loss: 0.4015 - val_loss: 0.4252\n",
      "Epoch 283/300\n",
      "83/83 [==============================] - 0s 1ms/step - loss: 0.4150 - val_loss: 0.4255\n",
      "Epoch 284/300\n",
      "83/83 [==============================] - 0s 1ms/step - loss: 0.3973 - val_loss: 0.4252\n",
      "Epoch 285/300\n",
      "83/83 [==============================] - 0s 1ms/step - loss: 0.3911 - val_loss: 0.4253\n",
      "Epoch 286/300\n",
      "83/83 [==============================] - 0s 1ms/step - loss: 0.4069 - val_loss: 0.4253\n",
      "Epoch 287/300\n",
      "83/83 [==============================] - 0s 1ms/step - loss: 0.3952 - val_loss: 0.4253\n",
      "Epoch 288/300\n",
      "83/83 [==============================] - 0s 1ms/step - loss: 0.3981 - val_loss: 0.4257\n",
      "Epoch 289/300\n",
      "83/83 [==============================] - 0s 1ms/step - loss: 0.4053 - val_loss: 0.4254\n",
      "Epoch 290/300\n",
      "83/83 [==============================] - 0s 1ms/step - loss: 0.4061 - val_loss: 0.4257\n",
      "Epoch 291/300\n",
      "83/83 [==============================] - 0s 1ms/step - loss: 0.3972 - val_loss: 0.4255\n",
      "Epoch 292/300\n",
      "83/83 [==============================] - 0s 1ms/step - loss: 0.3988 - val_loss: 0.4254\n",
      "Epoch 293/300\n",
      "83/83 [==============================] - 0s 1ms/step - loss: 0.3931 - val_loss: 0.4255\n",
      "Epoch 294/300\n",
      "83/83 [==============================] - 0s 1ms/step - loss: 0.3972 - val_loss: 0.4258\n",
      "Epoch 295/300\n",
      "83/83 [==============================] - 0s 1ms/step - loss: 0.4027 - val_loss: 0.4261\n",
      "Epoch 296/300\n",
      "83/83 [==============================] - 0s 989us/step - loss: 0.4077 - val_loss: 0.4255\n",
      "Epoch 297/300\n",
      "83/83 [==============================] - 0s 1ms/step - loss: 0.3990 - val_loss: 0.4257\n",
      "Epoch 298/300\n",
      "83/83 [==============================] - 0s 1ms/step - loss: 0.4022 - val_loss: 0.4259\n",
      "Epoch 299/300\n",
      "83/83 [==============================] - 0s 1ms/step - loss: 0.3947 - val_loss: 0.4257\n",
      "Epoch 300/300\n",
      "83/83 [==============================] - 0s 1ms/step - loss: 0.3858 - val_loss: 0.4258\n"
     ]
    },
    {
     "data": {
      "text/plain": [
       "<tensorflow.python.keras.callbacks.History at 0x2997f867430>"
      ]
     },
     "execution_count": 147,
     "metadata": {},
     "output_type": "execute_result"
    }
   ],
   "source": [
    "model.fit(x=X_train, \n",
    "          y=y_train, \n",
    "          batch_size=64,\n",
    "          epochs=300,\n",
    "          validation_data=(X_test, y_test), verbose=1\n",
    "          )"
   ]
  },
  {
   "cell_type": "code",
   "execution_count": 148,
   "metadata": {},
   "outputs": [
    {
     "name": "stdout",
     "output_type": "stream",
     "text": [
      "Model: \"sequential\"\n",
      "_________________________________________________________________\n",
      "Layer (type)                 Output Shape              Param #   \n",
      "=================================================================\n",
      "dense (Dense)                (None, 21)                462       \n",
      "_________________________________________________________________\n",
      "dense_1 (Dense)              (None, 21)                462       \n",
      "_________________________________________________________________\n",
      "dense_2 (Dense)              (None, 11)                242       \n",
      "_________________________________________________________________\n",
      "dense_3 (Dense)              (None, 6)                 72        \n",
      "_________________________________________________________________\n",
      "dense_4 (Dense)              (None, 1)                 7         \n",
      "=================================================================\n",
      "Total params: 1,245\n",
      "Trainable params: 1,245\n",
      "Non-trainable params: 0\n",
      "_________________________________________________________________\n"
     ]
    }
   ],
   "source": [
    "model.summary()"
   ]
  },
  {
   "cell_type": "code",
   "execution_count": 149,
   "metadata": {},
   "outputs": [
    {
     "data": {
      "image/png": "[encoded data removed]",
      "text/plain": [
       "<Figure size 432x288 with 1 Axes>"
      ]
     },
     "metadata": {
      "needs_background": "light"
     },
     "output_type": "display_data"
    }
   ],
   "source": [
    "pd.DataFrame(model.history.history).plot();"
   ]
  },
  {
   "cell_type": "code",
   "execution_count": 150,
   "metadata": {},
   "outputs": [
    {
     "name": "stdout",
     "output_type": "stream",
     "text": [
      "[[1166  125]\n",
      " [ 226  241]] \n",
      " \n",
      "\n",
      "              precision    recall  f1-score   support\n",
      "\n",
      "           0       0.84      0.90      0.87      1291\n",
      "           1       0.66      0.52      0.58       467\n",
      "\n",
      "    accuracy                           0.80      1758\n",
      "   macro avg       0.75      0.71      0.72      1758\n",
      "weighted avg       0.79      0.80      0.79      1758\n",
      "\n"
     ]
    },
    {
     "name": "stderr",
     "output_type": "stream",
     "text": [
      "C:\\Users\\aslik\\anaconda3\\lib\\site-packages\\tensorflow\\python\\keras\\engine\\sequential.py:450: UserWarning: `model.predict_classes()` is deprecated and will be removed after 2021-01-01. Please use instead:* `np.argmax(model.predict(x), axis=-1)`,   if your model does multi-class classification   (e.g. if it uses a `softmax` last-layer activation).* `(model.predict(x) > 0.5).astype(\"int32\")`,   if your model does binary classification   (e.g. if it uses a `sigmoid` last-layer activation).\n",
      "  warnings.warn('`model.predict_classes()` is deprecated and '\n"
     ]
    }
   ],
   "source": [
    "from sklearn.metrics import classification_report, confusion_matrix\n",
    "\n",
    "pred = model.predict_classes(X_test)\n",
    "print(confusion_matrix(y_test,pred), '\\n', '\\n')\n",
    "print(classification_report(y_test,pred))"
   ]
  },
  {
   "cell_type": "markdown",
   "metadata": {},
   "source": [
    "## SMOTE Balancing"
   ]
  },
  {
   "cell_type": "code",
   "execution_count": 151,
   "metadata": {},
   "outputs": [
    {
     "name": "stdout",
     "output_type": "stream",
     "text": [
      "Requirement already satisfied: imblearn in c:\\users\\aslik\\anaconda3\\lib\\site-packages (0.0)\n",
      "Requirement already satisfied: imbalanced-learn in c:\\users\\aslik\\anaconda3\\lib\\site-packages (from imblearn) (0.7.0)\n",
      "Requirement already satisfied: scipy>=0.19.1 in c:\\users\\aslik\\anaconda3\\lib\\site-packages (from imbalanced-learn->imblearn) (1.5.0)\n",
      "Requirement already satisfied: joblib>=0.11 in c:\\users\\aslik\\anaconda3\\lib\\site-packages (from imbalanced-learn->imblearn) (0.16.0)\n",
      "Requirement already satisfied: scikit-learn>=0.23 in c:\\users\\aslik\\anaconda3\\lib\\site-packages (from imbalanced-learn->imblearn) (0.23.1)\n",
      "Requirement already satisfied: numpy>=1.13.3 in c:\\users\\aslik\\anaconda3\\lib\\site-packages (from imbalanced-learn->imblearn) (1.19.4)\n",
      "Requirement already satisfied: threadpoolctl>=2.0.0 in c:\\users\\aslik\\anaconda3\\lib\\site-packages (from scikit-learn>=0.23->imbalanced-learn->imblearn) (2.1.0)\n"
     ]
    }
   ],
   "source": [
    "!pip install imblearn"
   ]
  },
  {
   "cell_type": "code",
   "execution_count": 152,
   "metadata": {},
   "outputs": [],
   "source": [
    "from collections import Counter\n",
    "from imblearn.over_sampling import SMOTE"
   ]
  },
  {
   "cell_type": "code",
   "execution_count": 153,
   "metadata": {},
   "outputs": [
    {
     "name": "stdout",
     "output_type": "stream",
     "text": [
      "Resampled dataset shape Counter({0: 5163, 1: 5163})\n"
     ]
    }
   ],
   "source": [
    "# Increasing number of 'Yes' equal to 'No'\n",
    "sm = SMOTE(random_state=99)\n",
    "X_res, y_res = sm.fit_sample(X, y)\n",
    "print('Resampled dataset shape {}'.format(Counter(y_res)))"
   ]
  },
  {
   "cell_type": "code",
   "execution_count": 154,
   "metadata": {},
   "outputs": [],
   "source": [
    "X_train, X_test, y_train, y_test = train_test_split(X_res, y_res, test_size=0.30, random_state=99)"
   ]
  },
  {
   "cell_type": "code",
   "execution_count": 155,
   "metadata": {},
   "outputs": [],
   "source": [
    "from sklearn.preprocessing import MinMaxScaler\n",
    "scaler = MinMaxScaler()\n",
    "X_train = scaler.fit_transform(X_train)\n",
    "X_test = scaler.transform(X_test)"
   ]
  },
  {
   "cell_type": "code",
   "execution_count": 157,
   "metadata": {},
   "outputs": [],
   "source": [
    "model = Sequential()\n",
    "\n",
    "model.add(Dense(units=21,activation='relu'))\n",
    "model.add(Dense(units=21,activation='relu'))\n",
    "model.add(Dense(units=11,activation='relu'))\n",
    "model.add(Dense(units=6,activation='relu'))\n",
    "model.add(Dense(units=1,activation='sigmoid'))\n",
    "\n",
    "opt=Adam(lr=0.0001)\n",
    "model.compile(loss='binary_crossentropy', optimizer=opt)"
   ]
  },
  {
   "cell_type": "code",
   "execution_count": 158,
   "metadata": {
    "collapsed": true,
    "jupyter": {
     "outputs_hidden": true
    }
   },
   "outputs": [
    {
     "name": "stdout",
     "output_type": "stream",
     "text": [
      "Epoch 1/200\n",
      "226/226 [==============================] - 1s 2ms/step - loss: 0.6858 - val_loss: 0.6703\n",
      "Epoch 2/200\n",
      "226/226 [==============================] - 0s 890us/step - loss: 0.6694 - val_loss: 0.6459\n",
      "Epoch 3/200\n",
      "226/226 [==============================] - 0s 941us/step - loss: 0.6428 - val_loss: 0.6117\n",
      "Epoch 4/200\n",
      "226/226 [==============================] - 0s 872us/step - loss: 0.6067 - val_loss: 0.5629\n",
      "Epoch 5/200\n",
      "226/226 [==============================] - 0s 949us/step - loss: 0.5662 - val_loss: 0.5238\n",
      "Epoch 6/200\n",
      "226/226 [==============================] - 0s 911us/step - loss: 0.5210 - val_loss: 0.5011\n",
      "Epoch 7/200\n",
      "226/226 [==============================] - 0s 856us/step - loss: 0.5216 - val_loss: 0.4896\n",
      "Epoch 8/200\n",
      "226/226 [==============================] - 0s 1ms/step - loss: 0.5075 - val_loss: 0.4831\n",
      "Epoch 9/200\n",
      "226/226 [==============================] - 0s 1ms/step - loss: 0.5032 - val_loss: 0.4794\n",
      "Epoch 10/200\n",
      "226/226 [==============================] - 0s 928us/step - loss: 0.4974 - val_loss: 0.4756\n",
      "Epoch 11/200\n",
      "226/226 [==============================] - 0s 926us/step - loss: 0.4842 - val_loss: 0.4728\n",
      "Epoch 12/200\n",
      "226/226 [==============================] - 0s 990us/step - loss: 0.4941 - val_loss: 0.4703\n",
      "Epoch 13/200\n",
      "226/226 [==============================] - 0s 971us/step - loss: 0.4785 - val_loss: 0.4684\n",
      "Epoch 14/200\n",
      "226/226 [==============================] - 0s 939us/step - loss: 0.4823 - val_loss: 0.4668\n",
      "Epoch 15/200\n",
      "226/226 [==============================] - 0s 991us/step - loss: 0.4732 - val_loss: 0.4658\n",
      "Epoch 16/200\n",
      "226/226 [==============================] - 0s 879us/step - loss: 0.4838 - val_loss: 0.4646\n",
      "Epoch 17/200\n",
      "226/226 [==============================] - 0s 972us/step - loss: 0.4780 - val_loss: 0.4636\n",
      "Epoch 18/200\n",
      "226/226 [==============================] - 0s 895us/step - loss: 0.4768 - val_loss: 0.4627\n",
      "Epoch 19/200\n",
      "226/226 [==============================] - 0s 999us/step - loss: 0.4811 - val_loss: 0.4623\n",
      "Epoch 20/200\n",
      "226/226 [==============================] - 0s 989us/step - loss: 0.4705 - val_loss: 0.4612\n",
      "Epoch 21/200\n",
      "226/226 [==============================] - 0s 1ms/step - loss: 0.4831 - val_loss: 0.4610\n",
      "Epoch 22/200\n",
      "226/226 [==============================] - 0s 1ms/step - loss: 0.4713 - val_loss: 0.4620\n",
      "Epoch 23/200\n",
      "226/226 [==============================] - 0s 877us/step - loss: 0.4761 - val_loss: 0.4614\n",
      "Epoch 24/200\n",
      "226/226 [==============================] - 0s 937us/step - loss: 0.4771 - val_loss: 0.4593\n",
      "Epoch 25/200\n",
      "226/226 [==============================] - 0s 924us/step - loss: 0.4766 - val_loss: 0.4596\n",
      "Epoch 26/200\n",
      "226/226 [==============================] - 0s 944us/step - loss: 0.4628 - val_loss: 0.4582\n",
      "Epoch 27/200\n",
      "226/226 [==============================] - 0s 903us/step - loss: 0.4841 - val_loss: 0.4582\n",
      "Epoch 28/200\n",
      "226/226 [==============================] - 0s 889us/step - loss: 0.4732 - val_loss: 0.4574\n",
      "Epoch 29/200\n",
      "226/226 [==============================] - 0s 892us/step - loss: 0.4653 - val_loss: 0.4569\n",
      "Epoch 30/200\n",
      "226/226 [==============================] - 0s 867us/step - loss: 0.4678 - val_loss: 0.4584\n",
      "Epoch 31/200\n",
      "226/226 [==============================] - 0s 851us/step - loss: 0.4642 - val_loss: 0.4561\n",
      "Epoch 32/200\n",
      "226/226 [==============================] - 0s 934us/step - loss: 0.4673 - val_loss: 0.4557\n",
      "Epoch 33/200\n",
      "226/226 [==============================] - 0s 903us/step - loss: 0.4613 - val_loss: 0.4559\n",
      "Epoch 34/200\n",
      "226/226 [==============================] - 0s 964us/step - loss: 0.4709 - val_loss: 0.4560\n",
      "Epoch 35/200\n",
      "226/226 [==============================] - 0s 825us/step - loss: 0.4644 - val_loss: 0.4555\n",
      "Epoch 36/200\n",
      "226/226 [==============================] - 0s 884us/step - loss: 0.4580 - val_loss: 0.4543\n",
      "Epoch 37/200\n",
      "226/226 [==============================] - 0s 915us/step - loss: 0.4733 - val_loss: 0.4537\n",
      "Epoch 38/200\n",
      "226/226 [==============================] - 0s 927us/step - loss: 0.4653 - val_loss: 0.4534\n",
      "Epoch 39/200\n",
      "226/226 [==============================] - 0s 913us/step - loss: 0.4669 - val_loss: 0.4533\n",
      "Epoch 40/200\n",
      "226/226 [==============================] - 0s 922us/step - loss: 0.4537 - val_loss: 0.4528\n",
      "Epoch 41/200\n",
      "226/226 [==============================] - 0s 861us/step - loss: 0.4596 - val_loss: 0.4523\n",
      "Epoch 42/200\n",
      "226/226 [==============================] - 0s 946us/step - loss: 0.4569 - val_loss: 0.4520\n",
      "Epoch 43/200\n",
      "226/226 [==============================] - 0s 868us/step - loss: 0.4714 - val_loss: 0.4515\n",
      "Epoch 44/200\n",
      "226/226 [==============================] - 0s 851us/step - loss: 0.4624 - val_loss: 0.4514\n",
      "Epoch 45/200\n",
      "226/226 [==============================] - 0s 892us/step - loss: 0.4536 - val_loss: 0.4512\n",
      "Epoch 46/200\n",
      "226/226 [==============================] - 0s 856us/step - loss: 0.4694 - val_loss: 0.4502\n",
      "Epoch 47/200\n",
      "226/226 [==============================] - 0s 931us/step - loss: 0.4583 - val_loss: 0.4497\n",
      "Epoch 48/200\n",
      "226/226 [==============================] - 0s 889us/step - loss: 0.4713 - val_loss: 0.4500\n",
      "Epoch 49/200\n",
      "226/226 [==============================] - 0s 892us/step - loss: 0.4662 - val_loss: 0.4490\n",
      "Epoch 50/200\n",
      "226/226 [==============================] - 0s 951us/step - loss: 0.4622 - val_loss: 0.4487\n",
      "Epoch 51/200\n",
      "226/226 [==============================] - 0s 877us/step - loss: 0.4588 - val_loss: 0.4482\n",
      "Epoch 52/200\n",
      "226/226 [==============================] - 0s 967us/step - loss: 0.4420 - val_loss: 0.4488\n",
      "Epoch 53/200\n",
      "226/226 [==============================] - 0s 1ms/step - loss: 0.4628 - val_loss: 0.4475\n",
      "Epoch 54/200\n",
      "226/226 [==============================] - 0s 959us/step - loss: 0.4487 - val_loss: 0.4467\n",
      "Epoch 55/200\n",
      "226/226 [==============================] - 0s 939us/step - loss: 0.4486 - val_loss: 0.4471\n",
      "Epoch 56/200\n",
      "226/226 [==============================] - 0s 912us/step - loss: 0.4549 - val_loss: 0.4463\n",
      "Epoch 57/200\n",
      "226/226 [==============================] - 0s 949us/step - loss: 0.4589 - val_loss: 0.4455\n",
      "Epoch 58/200\n",
      "226/226 [==============================] - 0s 1ms/step - loss: 0.4610 - val_loss: 0.4450\n",
      "Epoch 59/200\n",
      "226/226 [==============================] - 0s 890us/step - loss: 0.4477 - val_loss: 0.4450\n",
      "Epoch 60/200\n",
      "226/226 [==============================] - 0s 941us/step - loss: 0.4556 - val_loss: 0.4446\n",
      "Epoch 61/200\n",
      "226/226 [==============================] - 0s 925us/step - loss: 0.4506 - val_loss: 0.4439\n",
      "Epoch 62/200\n",
      "226/226 [==============================] - 0s 884us/step - loss: 0.4552 - val_loss: 0.4435\n",
      "Epoch 63/200\n",
      "226/226 [==============================] - 0s 988us/step - loss: 0.4520 - val_loss: 0.4430\n",
      "Epoch 64/200\n",
      "226/226 [==============================] - 0s 919us/step - loss: 0.4515 - val_loss: 0.4431\n",
      "Epoch 65/200\n",
      "226/226 [==============================] - 0s 1ms/step - loss: 0.4372 - val_loss: 0.4426\n",
      "Epoch 66/200\n",
      "226/226 [==============================] - 0s 957us/step - loss: 0.4478 - val_loss: 0.4429\n",
      "Epoch 67/200\n",
      "226/226 [==============================] - 0s 930us/step - loss: 0.4520 - val_loss: 0.4416\n",
      "Epoch 68/200\n",
      "226/226 [==============================] - 0s 968us/step - loss: 0.4522 - val_loss: 0.4415\n",
      "Epoch 69/200\n",
      "226/226 [==============================] - 0s 862us/step - loss: 0.4393 - val_loss: 0.4408\n",
      "Epoch 70/200\n",
      "226/226 [==============================] - 0s 972us/step - loss: 0.4507 - val_loss: 0.4403\n",
      "Epoch 71/200\n",
      "226/226 [==============================] - 0s 885us/step - loss: 0.4456 - val_loss: 0.4410\n",
      "Epoch 72/200\n",
      "226/226 [==============================] - 0s 924us/step - loss: 0.4465 - val_loss: 0.4396\n",
      "Epoch 73/200\n",
      "226/226 [==============================] - 0s 927us/step - loss: 0.4485 - val_loss: 0.4392\n",
      "Epoch 74/200\n",
      "226/226 [==============================] - 0s 941us/step - loss: 0.4542 - val_loss: 0.4395\n",
      "Epoch 75/200\n",
      "226/226 [==============================] - 0s 853us/step - loss: 0.4477 - val_loss: 0.4392\n",
      "Epoch 76/200\n",
      "226/226 [==============================] - 0s 930us/step - loss: 0.4458 - val_loss: 0.4380\n",
      "Epoch 77/200\n",
      "226/226 [==============================] - 0s 935us/step - loss: 0.4479 - val_loss: 0.4378\n",
      "Epoch 78/200\n",
      "226/226 [==============================] - 0s 1ms/step - loss: 0.4520 - val_loss: 0.4379\n",
      "Epoch 79/200\n",
      "226/226 [==============================] - 0s 889us/step - loss: 0.4385 - val_loss: 0.4373\n",
      "Epoch 80/200\n",
      "226/226 [==============================] - 0s 974us/step - loss: 0.4459 - val_loss: 0.4369\n",
      "Epoch 81/200\n",
      "226/226 [==============================] - 0s 963us/step - loss: 0.4517 - val_loss: 0.4363\n",
      "Epoch 82/200\n",
      "226/226 [==============================] - 0s 1ms/step - loss: 0.4410 - val_loss: 0.4357\n",
      "Epoch 83/200\n",
      "226/226 [==============================] - 0s 960us/step - loss: 0.4432 - val_loss: 0.4360\n",
      "Epoch 84/200\n",
      "226/226 [==============================] - 0s 1ms/step - loss: 0.4395 - val_loss: 0.4360\n",
      "Epoch 85/200\n",
      "226/226 [==============================] - 0s 957us/step - loss: 0.4277 - val_loss: 0.4348\n",
      "Epoch 86/200\n",
      "226/226 [==============================] - 0s 894us/step - loss: 0.4425 - val_loss: 0.4349\n",
      "Epoch 87/200\n",
      "226/226 [==============================] - 0s 984us/step - loss: 0.4370 - val_loss: 0.4339\n",
      "Epoch 88/200\n",
      "226/226 [==============================] - 0s 979us/step - loss: 0.4375 - val_loss: 0.4336\n",
      "Epoch 89/200\n",
      "226/226 [==============================] - 0s 936us/step - loss: 0.4413 - val_loss: 0.4336\n",
      "Epoch 90/200\n",
      "226/226 [==============================] - 0s 929us/step - loss: 0.4379 - val_loss: 0.4341\n",
      "Epoch 91/200\n",
      "226/226 [==============================] - 0s 918us/step - loss: 0.4460 - val_loss: 0.4328\n",
      "Epoch 92/200\n",
      "226/226 [==============================] - 0s 942us/step - loss: 0.4380 - val_loss: 0.4321\n",
      "Epoch 93/200\n",
      "226/226 [==============================] - 0s 859us/step - loss: 0.4468 - val_loss: 0.4324\n",
      "Epoch 94/200\n",
      "226/226 [==============================] - 0s 889us/step - loss: 0.4280 - val_loss: 0.4314\n",
      "Epoch 95/200\n",
      "226/226 [==============================] - 0s 921us/step - loss: 0.4338 - val_loss: 0.4310\n",
      "Epoch 96/200\n",
      "226/226 [==============================] - 0s 941us/step - loss: 0.4271 - val_loss: 0.4310\n",
      "Epoch 97/200\n",
      "226/226 [==============================] - 0s 905us/step - loss: 0.4420 - val_loss: 0.4306\n",
      "Epoch 98/200\n",
      "226/226 [==============================] - 0s 888us/step - loss: 0.4320 - val_loss: 0.4308\n",
      "Epoch 99/200\n",
      "226/226 [==============================] - 0s 956us/step - loss: 0.4296 - val_loss: 0.4298\n",
      "Epoch 100/200\n",
      "226/226 [==============================] - 0s 894us/step - loss: 0.4420 - val_loss: 0.4292\n",
      "Epoch 101/200\n",
      "226/226 [==============================] - 0s 896us/step - loss: 0.4337 - val_loss: 0.4303\n",
      "Epoch 102/200\n",
      "226/226 [==============================] - 0s 933us/step - loss: 0.4316 - val_loss: 0.4298\n",
      "Epoch 103/200\n",
      "226/226 [==============================] - 0s 920us/step - loss: 0.4351 - val_loss: 0.4302\n",
      "Epoch 104/200\n",
      "226/226 [==============================] - 0s 954us/step - loss: 0.4243 - val_loss: 0.4283\n",
      "Epoch 105/200\n",
      "226/226 [==============================] - 0s 876us/step - loss: 0.4262 - val_loss: 0.4277\n",
      "Epoch 106/200\n",
      "226/226 [==============================] - 0s 889us/step - loss: 0.4313 - val_loss: 0.4270\n",
      "Epoch 107/200\n",
      "226/226 [==============================] - 0s 907us/step - loss: 0.4284 - val_loss: 0.4266\n",
      "Epoch 108/200\n",
      "226/226 [==============================] - 0s 871us/step - loss: 0.4284 - val_loss: 0.4266\n",
      "Epoch 109/200\n",
      "226/226 [==============================] - 0s 889us/step - loss: 0.4309 - val_loss: 0.4258\n",
      "Epoch 110/200\n",
      "226/226 [==============================] - 0s 887us/step - loss: 0.4253 - val_loss: 0.4256\n",
      "Epoch 111/200\n",
      "226/226 [==============================] - 0s 953us/step - loss: 0.4118 - val_loss: 0.4252\n",
      "Epoch 112/200\n",
      "226/226 [==============================] - 0s 837us/step - loss: 0.4162 - val_loss: 0.4248\n",
      "Epoch 113/200\n",
      "226/226 [==============================] - 0s 889us/step - loss: 0.4266 - val_loss: 0.4258\n",
      "Epoch 114/200\n",
      "226/226 [==============================] - 0s 890us/step - loss: 0.4343 - val_loss: 0.4246\n",
      "Epoch 115/200\n",
      "226/226 [==============================] - 0s 946us/step - loss: 0.4197 - val_loss: 0.4237\n",
      "Epoch 116/200\n",
      "226/226 [==============================] - 0s 905us/step - loss: 0.4281 - val_loss: 0.4263\n",
      "Epoch 117/200\n",
      "226/226 [==============================] - 0s 900us/step - loss: 0.4149 - val_loss: 0.4232\n",
      "Epoch 118/200\n",
      "226/226 [==============================] - 0s 940us/step - loss: 0.4289 - val_loss: 0.4239\n",
      "Epoch 119/200\n",
      "226/226 [==============================] - 0s 911us/step - loss: 0.4187 - val_loss: 0.4242\n",
      "Epoch 120/200\n",
      "226/226 [==============================] - 0s 903us/step - loss: 0.4232 - val_loss: 0.4229\n",
      "Epoch 121/200\n",
      "226/226 [==============================] - 0s 939us/step - loss: 0.4179 - val_loss: 0.4217\n",
      "Epoch 122/200\n",
      "226/226 [==============================] - 0s 916us/step - loss: 0.4155 - val_loss: 0.4217\n",
      "Epoch 123/200\n",
      "226/226 [==============================] - 0s 918us/step - loss: 0.4343 - val_loss: 0.4208\n",
      "Epoch 124/200\n",
      "226/226 [==============================] - 0s 978us/step - loss: 0.4197 - val_loss: 0.4211\n",
      "Epoch 125/200\n",
      "226/226 [==============================] - 0s 937us/step - loss: 0.4201 - val_loss: 0.4236\n",
      "Epoch 126/200\n",
      "226/226 [==============================] - 0s 902us/step - loss: 0.4040 - val_loss: 0.4207\n",
      "Epoch 127/200\n",
      "226/226 [==============================] - 0s 951us/step - loss: 0.4261 - val_loss: 0.4196\n",
      "Epoch 128/200\n",
      "226/226 [==============================] - 0s 1ms/step - loss: 0.4187 - val_loss: 0.4198\n",
      "Epoch 129/200\n",
      "226/226 [==============================] - 0s 1ms/step - loss: 0.4199 - val_loss: 0.4190\n",
      "Epoch 130/200\n",
      "226/226 [==============================] - 0s 958us/step - loss: 0.4158 - val_loss: 0.4191\n",
      "Epoch 131/200\n",
      "226/226 [==============================] - 0s 1ms/step - loss: 0.4115 - val_loss: 0.4185\n",
      "Epoch 132/200\n",
      "226/226 [==============================] - 0s 865us/step - loss: 0.4050 - val_loss: 0.4202\n",
      "Epoch 133/200\n",
      "226/226 [==============================] - 0s 947us/step - loss: 0.4142 - val_loss: 0.4185\n",
      "Epoch 134/200\n",
      "226/226 [==============================] - 0s 889us/step - loss: 0.4179 - val_loss: 0.4189\n",
      "Epoch 135/200\n",
      "226/226 [==============================] - 0s 849us/step - loss: 0.4169 - val_loss: 0.4172\n",
      "Epoch 136/200\n",
      "226/226 [==============================] - 0s 865us/step - loss: 0.4114 - val_loss: 0.4168\n",
      "Epoch 137/200\n",
      "226/226 [==============================] - 0s 884us/step - loss: 0.4145 - val_loss: 0.4173\n",
      "Epoch 138/200\n",
      "226/226 [==============================] - 0s 893us/step - loss: 0.4229 - val_loss: 0.4170\n",
      "Epoch 139/200\n",
      "226/226 [==============================] - 0s 965us/step - loss: 0.3993 - val_loss: 0.4160\n",
      "Epoch 140/200\n",
      "226/226 [==============================] - 0s 887us/step - loss: 0.4111 - val_loss: 0.4157\n",
      "Epoch 141/200\n",
      "226/226 [==============================] - 0s 958us/step - loss: 0.4049 - val_loss: 0.4153\n",
      "Epoch 142/200\n",
      "226/226 [==============================] - 0s 933us/step - loss: 0.4071 - val_loss: 0.4151\n",
      "Epoch 143/200\n",
      "226/226 [==============================] - 0s 885us/step - loss: 0.4142 - val_loss: 0.4155\n",
      "Epoch 144/200\n",
      "226/226 [==============================] - 0s 1ms/step - loss: 0.4096 - val_loss: 0.4141\n",
      "Epoch 145/200\n",
      "226/226 [==============================] - 0s 862us/step - loss: 0.3966 - val_loss: 0.4139\n",
      "Epoch 146/200\n",
      "226/226 [==============================] - 0s 873us/step - loss: 0.4083 - val_loss: 0.4136\n",
      "Epoch 147/200\n",
      "226/226 [==============================] - 0s 906us/step - loss: 0.4127 - val_loss: 0.4140\n",
      "Epoch 148/200\n",
      "226/226 [==============================] - 0s 963us/step - loss: 0.4123 - val_loss: 0.4135\n",
      "Epoch 149/200\n",
      "226/226 [==============================] - 0s 880us/step - loss: 0.3961 - val_loss: 0.4132\n",
      "Epoch 150/200\n",
      "226/226 [==============================] - 0s 959us/step - loss: 0.3949 - val_loss: 0.4125\n",
      "Epoch 151/200\n",
      "226/226 [==============================] - 0s 893us/step - loss: 0.3981 - val_loss: 0.4127\n",
      "Epoch 152/200\n",
      "226/226 [==============================] - 0s 988us/step - loss: 0.3997 - val_loss: 0.4138\n",
      "Epoch 153/200\n",
      "226/226 [==============================] - 0s 894us/step - loss: 0.3923 - val_loss: 0.4113\n",
      "Epoch 154/200\n",
      "226/226 [==============================] - 0s 897us/step - loss: 0.4138 - val_loss: 0.4134\n",
      "Epoch 155/200\n",
      "226/226 [==============================] - 0s 915us/step - loss: 0.3968 - val_loss: 0.4110\n",
      "Epoch 156/200\n",
      "226/226 [==============================] - 0s 872us/step - loss: 0.4019 - val_loss: 0.4111\n",
      "Epoch 157/200\n",
      "226/226 [==============================] - 0s 889us/step - loss: 0.4007 - val_loss: 0.4099\n",
      "Epoch 158/200\n",
      "226/226 [==============================] - 0s 952us/step - loss: 0.3946 - val_loss: 0.4098\n",
      "Epoch 159/200\n",
      "226/226 [==============================] - 0s 877us/step - loss: 0.4053 - val_loss: 0.4092\n",
      "Epoch 160/200\n",
      "226/226 [==============================] - 0s 977us/step - loss: 0.3946 - val_loss: 0.4096\n",
      "Epoch 161/200\n",
      "226/226 [==============================] - 0s 875us/step - loss: 0.3902 - val_loss: 0.4088\n",
      "Epoch 162/200\n",
      "226/226 [==============================] - 0s 916us/step - loss: 0.4048 - val_loss: 0.4089\n",
      "Epoch 163/200\n",
      "226/226 [==============================] - 0s 866us/step - loss: 0.4129 - val_loss: 0.4085\n",
      "Epoch 164/200\n",
      "226/226 [==============================] - 0s 907us/step - loss: 0.3913 - val_loss: 0.4077\n",
      "Epoch 165/200\n",
      "226/226 [==============================] - 0s 875us/step - loss: 0.4013 - val_loss: 0.4077\n",
      "Epoch 166/200\n",
      "226/226 [==============================] - 0s 889us/step - loss: 0.3953 - val_loss: 0.4078\n",
      "Epoch 167/200\n",
      "226/226 [==============================] - 0s 889us/step - loss: 0.4114 - val_loss: 0.4077\n",
      "Epoch 168/200\n",
      "226/226 [==============================] - 0s 896us/step - loss: 0.4050 - val_loss: 0.4076\n",
      "Epoch 169/200\n",
      "226/226 [==============================] - 0s 1ms/step - loss: 0.3984 - val_loss: 0.4066\n",
      "Epoch 170/200\n",
      "226/226 [==============================] - 0s 868us/step - loss: 0.3899 - val_loss: 0.4073\n",
      "Epoch 171/200\n",
      "226/226 [==============================] - 0s 950us/step - loss: 0.3769 - val_loss: 0.4059\n",
      "Epoch 172/200\n",
      "226/226 [==============================] - 0s 879us/step - loss: 0.3945 - val_loss: 0.4060\n",
      "Epoch 173/200\n",
      "226/226 [==============================] - 0s 922us/step - loss: 0.3962 - val_loss: 0.4051\n",
      "Epoch 174/200\n",
      "226/226 [==============================] - 0s 886us/step - loss: 0.3797 - val_loss: 0.4050\n",
      "Epoch 175/200\n",
      "226/226 [==============================] - 0s 897us/step - loss: 0.3915 - val_loss: 0.4052\n",
      "Epoch 176/200\n",
      "226/226 [==============================] - 0s 880us/step - loss: 0.3880 - val_loss: 0.4051\n",
      "Epoch 177/200\n",
      "226/226 [==============================] - 0s 868us/step - loss: 0.3929 - val_loss: 0.4045\n",
      "Epoch 178/200\n",
      "226/226 [==============================] - 0s 910us/step - loss: 0.4006 - val_loss: 0.4061\n",
      "Epoch 179/200\n",
      "226/226 [==============================] - 0s 947us/step - loss: 0.3954 - val_loss: 0.4037\n",
      "Epoch 180/200\n",
      "226/226 [==============================] - 0s 933us/step - loss: 0.3886 - val_loss: 0.4037\n",
      "Epoch 181/200\n",
      "226/226 [==============================] - 0s 876us/step - loss: 0.3822 - val_loss: 0.4041\n",
      "Epoch 182/200\n",
      "226/226 [==============================] - 0s 934us/step - loss: 0.3885 - val_loss: 0.4030\n",
      "Epoch 183/200\n",
      "226/226 [==============================] - 0s 907us/step - loss: 0.3865 - val_loss: 0.4030\n",
      "Epoch 184/200\n",
      "226/226 [==============================] - 0s 889us/step - loss: 0.3793 - val_loss: 0.4027\n",
      "Epoch 185/200\n",
      "226/226 [==============================] - 0s 952us/step - loss: 0.3743 - val_loss: 0.4022\n",
      "Epoch 186/200\n",
      "226/226 [==============================] - 0s 887us/step - loss: 0.3968 - val_loss: 0.4038\n",
      "Epoch 187/200\n",
      "226/226 [==============================] - 0s 877us/step - loss: 0.3871 - val_loss: 0.4022\n",
      "Epoch 188/200\n",
      "226/226 [==============================] - 0s 898us/step - loss: 0.3922 - val_loss: 0.4014\n",
      "Epoch 189/200\n",
      "226/226 [==============================] - 0s 927us/step - loss: 0.3903 - val_loss: 0.4019\n",
      "Epoch 190/200\n",
      "226/226 [==============================] - 0s 893us/step - loss: 0.3822 - val_loss: 0.4009\n",
      "Epoch 191/200\n",
      "226/226 [==============================] - 0s 923us/step - loss: 0.3789 - val_loss: 0.4016\n",
      "Epoch 192/200\n",
      "226/226 [==============================] - 0s 897us/step - loss: 0.3840 - val_loss: 0.4010\n",
      "Epoch 193/200\n",
      "226/226 [==============================] - 0s 967us/step - loss: 0.3849 - val_loss: 0.4008\n",
      "Epoch 194/200\n",
      "226/226 [==============================] - 0s 1ms/step - loss: 0.3885 - val_loss: 0.4016\n",
      "Epoch 195/200\n",
      "226/226 [==============================] - 0s 922us/step - loss: 0.3797 - val_loss: 0.4002\n",
      "Epoch 196/200\n",
      "226/226 [==============================] - 0s 975us/step - loss: 0.3865 - val_loss: 0.4006\n",
      "Epoch 197/200\n",
      "226/226 [==============================] - 0s 1ms/step - loss: 0.3876 - val_loss: 0.3998\n",
      "Epoch 198/200\n",
      "226/226 [==============================] - 0s 950us/step - loss: 0.3815 - val_loss: 0.3987\n",
      "Epoch 199/200\n",
      "226/226 [==============================] - 0s 995us/step - loss: 0.3922 - val_loss: 0.3990\n",
      "Epoch 200/200\n",
      "226/226 [==============================] - 0s 1ms/step - loss: 0.3829 - val_loss: 0.3989\n"
     ]
    },
    {
     "data": {
      "text/plain": [
       "<tensorflow.python.keras.callbacks.History at 0x299085c74f0>"
      ]
     },
     "execution_count": 158,
     "metadata": {},
     "output_type": "execute_result"
    }
   ],
   "source": [
    "model.fit(x=X_train, \n",
    "          y=y_train, \n",
    "          batch_size=32,\n",
    "          epochs=200,\n",
    "          validation_data=(X_test, y_test), verbose=1\n",
    "          )"
   ]
  },
  {
   "cell_type": "code",
   "execution_count": 159,
   "metadata": {},
   "outputs": [
    {
     "data": {
      "image/png": "[encoded data removed]",
      "text/plain": [
       "<Figure size 432x288 with 1 Axes>"
      ]
     },
     "metadata": {
      "needs_background": "light"
     },
     "output_type": "display_data"
    }
   ],
   "source": [
    "pd.DataFrame(model.history.history).plot();"
   ]
  },
  {
   "cell_type": "code",
   "execution_count": 161,
   "metadata": {},
   "outputs": [
    {
     "name": "stdout",
     "output_type": "stream",
     "text": [
      "[[1238  303]\n",
      " [ 263 1294]] \n",
      " \n",
      "\n",
      "              precision    recall  f1-score   support\n",
      "\n",
      "           0       0.82      0.80      0.81      1541\n",
      "           1       0.81      0.83      0.82      1557\n",
      "\n",
      "    accuracy                           0.82      3098\n",
      "   macro avg       0.82      0.82      0.82      3098\n",
      "weighted avg       0.82      0.82      0.82      3098\n",
      "\n"
     ]
    }
   ],
   "source": [
    "pred = model.predict_classes(X_test)\n",
    "print(confusion_matrix(y_test,pred), '\\n', '\\n')\n",
    "print(classification_report(y_test,pred))"
   ]
  },
  {
   "cell_type": "markdown",
   "metadata": {},
   "source": [
    "## 5.1 Training by using early stop"
   ]
  },
  {
   "cell_type": "code",
   "execution_count": 162,
   "metadata": {},
   "outputs": [],
   "source": [
    "from tensorflow.keras.callbacks import EarlyStopping"
   ]
  },
  {
   "cell_type": "code",
   "execution_count": 163,
   "metadata": {},
   "outputs": [],
   "source": [
    "early_stop = EarlyStopping(monitor='val_loss', mode='min', verbose=1, patience=20)"
   ]
  },
  {
   "cell_type": "code",
   "execution_count": 164,
   "metadata": {},
   "outputs": [],
   "source": [
    "model_earl = Sequential()\n",
    "\n",
    "model_earl.add(Dense(units=21,activation='relu'))\n",
    "model_earl.add(Dropout(0.3))\n",
    "model_earl.add(Dense(units=21,activation='relu'))\n",
    "model_earl.add(Dropout(0.3))\n",
    "model_earl.add(Dense(units=11,activation='relu'))\n",
    "model_earl.add(Dropout(0.3))\n",
    "model_earl.add(Dense(units=6,activation='relu'))\n",
    "model_earl.add(Dropout(0.3))\n",
    "model_earl.add(Dense(units=1,activation='sigmoid'))\n",
    "\n",
    "opt=Adam(lr=0.00001)\n",
    "model_earl.compile(loss='binary_crossentropy', optimizer='adam', )"
   ]
  },
  {
   "cell_type": "code",
   "execution_count": 165,
   "metadata": {
    "collapsed": true,
    "jupyter": {
     "outputs_hidden": true
    }
   },
   "outputs": [
    {
     "name": "stdout",
     "output_type": "stream",
     "text": [
      "Epoch 1/300\n",
      "226/226 [==============================] - 1s 1ms/step - loss: 0.7152 - val_loss: 0.6364\n",
      "Epoch 2/300\n",
      "226/226 [==============================] - 0s 951us/step - loss: 0.6374 - val_loss: 0.5391\n",
      "Epoch 3/300\n",
      "226/226 [==============================] - 0s 1ms/step - loss: 0.5877 - val_loss: 0.5070\n",
      "Epoch 4/300\n",
      "226/226 [==============================] - 0s 1ms/step - loss: 0.5525 - val_loss: 0.4975\n",
      "Epoch 5/300\n",
      "226/226 [==============================] - 0s 1ms/step - loss: 0.5515 - val_loss: 0.4780\n",
      "Epoch 6/300\n",
      "226/226 [==============================] - 0s 1ms/step - loss: 0.5406 - val_loss: 0.4735\n",
      "Epoch 7/300\n",
      "226/226 [==============================] - 0s 1ms/step - loss: 0.5222 - val_loss: 0.4713\n",
      "Epoch 8/300\n",
      "226/226 [==============================] - 0s 958us/step - loss: 0.5395 - val_loss: 0.4670\n",
      "Epoch 9/300\n",
      "226/226 [==============================] - 0s 1ms/step - loss: 0.5308 - val_loss: 0.4642\n",
      "Epoch 10/300\n",
      "226/226 [==============================] - 0s 1ms/step - loss: 0.5286 - val_loss: 0.4627\n",
      "Epoch 11/300\n",
      "226/226 [==============================] - 0s 900us/step - loss: 0.5165 - val_loss: 0.4614\n",
      "Epoch 12/300\n",
      "226/226 [==============================] - 0s 1ms/step - loss: 0.5165 - val_loss: 0.4563\n",
      "Epoch 13/300\n",
      "226/226 [==============================] - 0s 1ms/step - loss: 0.5186 - val_loss: 0.4501\n",
      "Epoch 14/300\n",
      "226/226 [==============================] - 0s 1ms/step - loss: 0.5091 - val_loss: 0.4577\n",
      "Epoch 15/300\n",
      "226/226 [==============================] - 0s 974us/step - loss: 0.4963 - val_loss: 0.4534\n",
      "Epoch 16/300\n",
      "226/226 [==============================] - 0s 1ms/step - loss: 0.5072 - val_loss: 0.4545\n",
      "Epoch 17/300\n",
      "226/226 [==============================] - 0s 951us/step - loss: 0.5147 - val_loss: 0.4519\n",
      "Epoch 18/300\n",
      "226/226 [==============================] - 0s 1ms/step - loss: 0.4995 - val_loss: 0.4509\n",
      "Epoch 19/300\n",
      "226/226 [==============================] - 0s 975us/step - loss: 0.5052 - val_loss: 0.4440\n",
      "Epoch 20/300\n",
      "226/226 [==============================] - 0s 1ms/step - loss: 0.5006 - val_loss: 0.4482\n",
      "Epoch 21/300\n",
      "226/226 [==============================] - 0s 967us/step - loss: 0.4988 - val_loss: 0.4426\n",
      "Epoch 22/300\n",
      "226/226 [==============================] - 0s 1000us/step - loss: 0.4961 - val_loss: 0.4462\n",
      "Epoch 23/300\n",
      "226/226 [==============================] - 0s 891us/step - loss: 0.5091 - val_loss: 0.4431\n",
      "Epoch 24/300\n",
      "226/226 [==============================] - 0s 1ms/step - loss: 0.5039 - val_loss: 0.4407\n",
      "Epoch 25/300\n",
      "226/226 [==============================] - 0s 992us/step - loss: 0.5020 - val_loss: 0.4397\n",
      "Epoch 26/300\n",
      "226/226 [==============================] - 0s 936us/step - loss: 0.5051 - val_loss: 0.4364\n",
      "Epoch 27/300\n",
      "226/226 [==============================] - 0s 1ms/step - loss: 0.4994 - val_loss: 0.4411\n",
      "Epoch 28/300\n",
      "226/226 [==============================] - 0s 1ms/step - loss: 0.4876 - val_loss: 0.4383\n",
      "Epoch 29/300\n",
      "226/226 [==============================] - 0s 1ms/step - loss: 0.4901 - val_loss: 0.4356\n",
      "Epoch 30/300\n",
      "226/226 [==============================] - 0s 896us/step - loss: 0.5013 - val_loss: 0.4344\n",
      "Epoch 31/300\n",
      "226/226 [==============================] - 0s 1ms/step - loss: 0.4848 - val_loss: 0.4375\n",
      "Epoch 32/300\n",
      "226/226 [==============================] - 0s 1ms/step - loss: 0.4831 - val_loss: 0.4311\n",
      "Epoch 33/300\n",
      "226/226 [==============================] - 0s 911us/step - loss: 0.4956 - val_loss: 0.4315\n",
      "Epoch 34/300\n",
      "226/226 [==============================] - 0s 996us/step - loss: 0.4944 - val_loss: 0.4344\n",
      "Epoch 35/300\n",
      "226/226 [==============================] - 0s 1ms/step - loss: 0.4850 - val_loss: 0.4272\n",
      "Epoch 36/300\n",
      "226/226 [==============================] - 0s 1ms/step - loss: 0.4891 - val_loss: 0.4371\n",
      "Epoch 37/300\n",
      "226/226 [==============================] - 0s 965us/step - loss: 0.4693 - val_loss: 0.4307\n",
      "Epoch 38/300\n",
      "226/226 [==============================] - 0s 1ms/step - loss: 0.4917 - val_loss: 0.4313\n",
      "Epoch 39/300\n",
      "226/226 [==============================] - 0s 1ms/step - loss: 0.4823 - val_loss: 0.4350\n",
      "Epoch 40/300\n",
      "226/226 [==============================] - 0s 1ms/step - loss: 0.4866 - val_loss: 0.4332\n",
      "Epoch 41/300\n",
      "226/226 [==============================] - 0s 1ms/step - loss: 0.4751 - val_loss: 0.4323\n",
      "Epoch 42/300\n",
      "226/226 [==============================] - 0s 1ms/step - loss: 0.4827 - val_loss: 0.4284\n",
      "Epoch 43/300\n",
      "226/226 [==============================] - 0s 1ms/step - loss: 0.4764 - val_loss: 0.4275\n",
      "Epoch 44/300\n",
      "226/226 [==============================] - 0s 1ms/step - loss: 0.4828 - val_loss: 0.4271\n",
      "Epoch 45/300\n",
      "226/226 [==============================] - 0s 1ms/step - loss: 0.4823 - val_loss: 0.4278\n",
      "Epoch 46/300\n",
      "226/226 [==============================] - 0s 924us/step - loss: 0.4835 - val_loss: 0.4250\n",
      "Epoch 47/300\n",
      "226/226 [==============================] - 0s 960us/step - loss: 0.4810 - val_loss: 0.4225\n",
      "Epoch 48/300\n",
      "226/226 [==============================] - 0s 1ms/step - loss: 0.4636 - val_loss: 0.4232\n",
      "Epoch 49/300\n",
      "226/226 [==============================] - 0s 1ms/step - loss: 0.4868 - val_loss: 0.4212\n",
      "Epoch 50/300\n",
      "226/226 [==============================] - 0s 1ms/step - loss: 0.4770 - val_loss: 0.4266\n",
      "Epoch 51/300\n",
      "226/226 [==============================] - 0s 1ms/step - loss: 0.4822 - val_loss: 0.4248\n",
      "Epoch 52/300\n",
      "226/226 [==============================] - 0s 1ms/step - loss: 0.4745 - val_loss: 0.4228\n",
      "Epoch 53/300\n",
      "226/226 [==============================] - 0s 989us/step - loss: 0.4780 - val_loss: 0.4221\n",
      "Epoch 54/300\n",
      "226/226 [==============================] - 0s 938us/step - loss: 0.4784 - val_loss: 0.4246\n",
      "Epoch 55/300\n",
      "226/226 [==============================] - 0s 957us/step - loss: 0.4734 - val_loss: 0.4188\n",
      "Epoch 56/300\n",
      "226/226 [==============================] - 0s 1ms/step - loss: 0.4582 - val_loss: 0.4253\n",
      "Epoch 57/300\n",
      "226/226 [==============================] - 0s 984us/step - loss: 0.4842 - val_loss: 0.4199\n",
      "Epoch 58/300\n",
      "226/226 [==============================] - 0s 1ms/step - loss: 0.4647 - val_loss: 0.4230\n",
      "Epoch 59/300\n",
      "226/226 [==============================] - 0s 1ms/step - loss: 0.4807 - val_loss: 0.4194\n",
      "Epoch 60/300\n",
      "226/226 [==============================] - 0s 1ms/step - loss: 0.4728 - val_loss: 0.4206\n",
      "Epoch 61/300\n",
      "226/226 [==============================] - 0s 977us/step - loss: 0.4642 - val_loss: 0.4328\n",
      "Epoch 62/300\n",
      "226/226 [==============================] - 0s 1ms/step - loss: 0.4831 - val_loss: 0.4188\n",
      "Epoch 63/300\n",
      "226/226 [==============================] - 0s 1ms/step - loss: 0.4797 - val_loss: 0.4250\n",
      "Epoch 64/300\n",
      "226/226 [==============================] - 0s 1ms/step - loss: 0.4702 - val_loss: 0.4199\n",
      "Epoch 65/300\n",
      "226/226 [==============================] - 0s 960us/step - loss: 0.4795 - val_loss: 0.4193\n",
      "Epoch 66/300\n",
      "226/226 [==============================] - 0s 926us/step - loss: 0.4615 - val_loss: 0.4202\n",
      "Epoch 67/300\n",
      "226/226 [==============================] - 0s 1ms/step - loss: 0.4504 - val_loss: 0.4234\n",
      "Epoch 68/300\n",
      "226/226 [==============================] - 0s 1ms/step - loss: 0.4801 - val_loss: 0.4204\n",
      "Epoch 69/300\n",
      "226/226 [==============================] - 0s 971us/step - loss: 0.4916 - val_loss: 0.4173\n",
      "Epoch 70/300\n",
      "226/226 [==============================] - 0s 954us/step - loss: 0.4708 - val_loss: 0.4166\n",
      "Epoch 71/300\n",
      "226/226 [==============================] - 0s 1ms/step - loss: 0.4709 - val_loss: 0.4178\n",
      "Epoch 72/300\n",
      "226/226 [==============================] - 0s 1ms/step - loss: 0.4655 - val_loss: 0.4191\n",
      "Epoch 73/300\n",
      "226/226 [==============================] - 0s 1ms/step - loss: 0.4651 - val_loss: 0.4185\n",
      "Epoch 74/300\n",
      "226/226 [==============================] - 0s 1ms/step - loss: 0.4488 - val_loss: 0.4207\n",
      "Epoch 75/300\n",
      "226/226 [==============================] - 0s 1ms/step - loss: 0.4667 - val_loss: 0.4153\n",
      "Epoch 76/300\n",
      "226/226 [==============================] - 0s 1ms/step - loss: 0.4728 - val_loss: 0.4157\n",
      "Epoch 77/300\n",
      "226/226 [==============================] - 0s 1ms/step - loss: 0.4715 - val_loss: 0.4176\n",
      "Epoch 78/300\n",
      "226/226 [==============================] - 0s 971us/step - loss: 0.4649 - val_loss: 0.4149\n",
      "Epoch 79/300\n",
      "226/226 [==============================] - 0s 1ms/step - loss: 0.4735 - val_loss: 0.4130\n",
      "Epoch 80/300\n",
      "226/226 [==============================] - 0s 996us/step - loss: 0.4755 - val_loss: 0.4186\n",
      "Epoch 81/300\n",
      "226/226 [==============================] - 0s 1ms/step - loss: 0.4639 - val_loss: 0.4147\n",
      "Epoch 82/300\n",
      "226/226 [==============================] - 0s 1ms/step - loss: 0.4653 - val_loss: 0.4139\n",
      "Epoch 83/300\n",
      "226/226 [==============================] - 0s 953us/step - loss: 0.4554 - val_loss: 0.4164\n",
      "Epoch 84/300\n",
      "226/226 [==============================] - 0s 996us/step - loss: 0.4701 - val_loss: 0.4098\n",
      "Epoch 85/300\n",
      "226/226 [==============================] - 0s 941us/step - loss: 0.4650 - val_loss: 0.4148\n",
      "Epoch 86/300\n",
      "226/226 [==============================] - 0s 964us/step - loss: 0.4474 - val_loss: 0.4143\n",
      "Epoch 87/300\n",
      "226/226 [==============================] - 0s 1ms/step - loss: 0.4535 - val_loss: 0.4170\n",
      "Epoch 88/300\n",
      "226/226 [==============================] - 0s 971us/step - loss: 0.4661 - val_loss: 0.4167\n",
      "Epoch 89/300\n",
      "226/226 [==============================] - 0s 948us/step - loss: 0.4520 - val_loss: 0.4132\n",
      "Epoch 90/300\n",
      "226/226 [==============================] - 0s 962us/step - loss: 0.4725 - val_loss: 0.4115\n",
      "Epoch 91/300\n",
      "226/226 [==============================] - 0s 996us/step - loss: 0.4543 - val_loss: 0.4129\n",
      "Epoch 92/300\n",
      "226/226 [==============================] - 0s 998us/step - loss: 0.4448 - val_loss: 0.4131\n",
      "Epoch 93/300\n",
      "226/226 [==============================] - 0s 999us/step - loss: 0.4600 - val_loss: 0.4140\n",
      "Epoch 94/300\n",
      "226/226 [==============================] - 0s 1ms/step - loss: 0.4641 - val_loss: 0.4121\n",
      "Epoch 95/300\n",
      "226/226 [==============================] - 0s 1ms/step - loss: 0.4559 - val_loss: 0.4099\n",
      "Epoch 96/300\n",
      "226/226 [==============================] - 0s 1ms/step - loss: 0.4722 - val_loss: 0.4157\n",
      "Epoch 97/300\n",
      "226/226 [==============================] - 0s 891us/step - loss: 0.4788 - val_loss: 0.4112\n",
      "Epoch 98/300\n",
      "226/226 [==============================] - 0s 944us/step - loss: 0.4730 - val_loss: 0.4129\n",
      "Epoch 99/300\n",
      "226/226 [==============================] - 0s 1ms/step - loss: 0.4664 - val_loss: 0.4109\n",
      "Epoch 100/300\n",
      "226/226 [==============================] - 0s 1ms/step - loss: 0.4676 - val_loss: 0.4102\n",
      "Epoch 101/300\n",
      "226/226 [==============================] - 0s 976us/step - loss: 0.4631 - val_loss: 0.4087\n",
      "Epoch 102/300\n",
      "226/226 [==============================] - 0s 924us/step - loss: 0.4562 - val_loss: 0.4111\n",
      "Epoch 103/300\n",
      "226/226 [==============================] - 0s 1ms/step - loss: 0.4677 - val_loss: 0.4093\n",
      "Epoch 104/300\n",
      "226/226 [==============================] - 0s 975us/step - loss: 0.4619 - val_loss: 0.4107\n",
      "Epoch 105/300\n",
      "226/226 [==============================] - 0s 1ms/step - loss: 0.4579 - val_loss: 0.4090\n",
      "Epoch 106/300\n",
      "226/226 [==============================] - 0s 914us/step - loss: 0.4643 - val_loss: 0.4069\n",
      "Epoch 107/300\n",
      "226/226 [==============================] - 0s 1ms/step - loss: 0.4541 - val_loss: 0.4083\n",
      "Epoch 108/300\n",
      "226/226 [==============================] - 0s 1ms/step - loss: 0.4415 - val_loss: 0.4105\n",
      "Epoch 109/300\n",
      "226/226 [==============================] - 0s 928us/step - loss: 0.4450 - val_loss: 0.4079\n",
      "Epoch 110/300\n",
      "226/226 [==============================] - 0s 1ms/step - loss: 0.4573 - val_loss: 0.4070\n",
      "Epoch 111/300\n",
      "226/226 [==============================] - 0s 1ms/step - loss: 0.4489 - val_loss: 0.4064\n",
      "Epoch 112/300\n",
      "226/226 [==============================] - 0s 1000us/step - loss: 0.4685 - val_loss: 0.4084\n",
      "Epoch 113/300\n",
      "226/226 [==============================] - 0s 1ms/step - loss: 0.4629 - val_loss: 0.4084\n",
      "Epoch 114/300\n",
      "226/226 [==============================] - 0s 998us/step - loss: 0.4592 - val_loss: 0.4057\n",
      "Epoch 115/300\n",
      "226/226 [==============================] - 0s 925us/step - loss: 0.4671 - val_loss: 0.4107\n",
      "Epoch 116/300\n",
      "226/226 [==============================] - 0s 1ms/step - loss: 0.4632 - val_loss: 0.4044\n",
      "Epoch 117/300\n",
      "226/226 [==============================] - 0s 954us/step - loss: 0.4789 - val_loss: 0.4061\n",
      "Epoch 118/300\n",
      "226/226 [==============================] - 0s 1ms/step - loss: 0.4537 - val_loss: 0.4064\n",
      "Epoch 119/300\n",
      "226/226 [==============================] - 0s 957us/step - loss: 0.4508 - val_loss: 0.4063\n",
      "Epoch 120/300\n",
      "226/226 [==============================] - 0s 924us/step - loss: 0.4601 - val_loss: 0.4074\n",
      "Epoch 121/300\n",
      "226/226 [==============================] - 0s 962us/step - loss: 0.4665 - val_loss: 0.4043\n",
      "Epoch 122/300\n",
      "226/226 [==============================] - 0s 1ms/step - loss: 0.4468 - val_loss: 0.4067\n",
      "Epoch 123/300\n",
      "226/226 [==============================] - 0s 963us/step - loss: 0.4627 - val_loss: 0.4071\n",
      "Epoch 124/300\n",
      "226/226 [==============================] - 0s 1ms/step - loss: 0.4589 - val_loss: 0.4055\n",
      "Epoch 125/300\n",
      "226/226 [==============================] - 0s 949us/step - loss: 0.4556 - val_loss: 0.4073\n",
      "Epoch 126/300\n",
      "226/226 [==============================] - 0s 1ms/step - loss: 0.4549 - val_loss: 0.4043\n",
      "Epoch 127/300\n",
      "226/226 [==============================] - 0s 925us/step - loss: 0.4520 - val_loss: 0.4050\n",
      "Epoch 128/300\n",
      "226/226 [==============================] - 0s 948us/step - loss: 0.4512 - val_loss: 0.4046\n",
      "Epoch 129/300\n",
      "226/226 [==============================] - 0s 1ms/step - loss: 0.4674 - val_loss: 0.4081\n",
      "Epoch 130/300\n",
      "226/226 [==============================] - 0s 988us/step - loss: 0.4620 - val_loss: 0.4040\n",
      "Epoch 131/300\n",
      "226/226 [==============================] - 0s 923us/step - loss: 0.4518 - val_loss: 0.4086\n",
      "Epoch 132/300\n",
      "226/226 [==============================] - 0s 1ms/step - loss: 0.4538 - val_loss: 0.4048\n",
      "Epoch 133/300\n",
      "226/226 [==============================] - 0s 833us/step - loss: 0.4551 - val_loss: 0.4083\n",
      "Epoch 134/300\n",
      "226/226 [==============================] - 0s 955us/step - loss: 0.4593 - val_loss: 0.4048\n",
      "Epoch 135/300\n",
      "226/226 [==============================] - 0s 969us/step - loss: 0.4538 - val_loss: 0.4056\n",
      "Epoch 136/300\n",
      "226/226 [==============================] - 0s 982us/step - loss: 0.4626 - val_loss: 0.4067\n",
      "Epoch 137/300\n",
      "226/226 [==============================] - 0s 937us/step - loss: 0.4477 - val_loss: 0.4003\n",
      "Epoch 138/300\n",
      "226/226 [==============================] - 0s 1ms/step - loss: 0.4389 - val_loss: 0.4034\n",
      "Epoch 139/300\n",
      "226/226 [==============================] - 0s 971us/step - loss: 0.4570 - val_loss: 0.4034\n",
      "Epoch 140/300\n",
      "226/226 [==============================] - 0s 942us/step - loss: 0.4438 - val_loss: 0.4046\n",
      "Epoch 141/300\n",
      "226/226 [==============================] - 0s 938us/step - loss: 0.4436 - val_loss: 0.4048\n",
      "Epoch 142/300\n",
      "226/226 [==============================] - 0s 963us/step - loss: 0.4606 - val_loss: 0.4065\n",
      "Epoch 143/300\n",
      "226/226 [==============================] - 0s 1ms/step - loss: 0.4464 - val_loss: 0.4032\n",
      "Epoch 144/300\n",
      "226/226 [==============================] - 0s 1ms/step - loss: 0.4608 - val_loss: 0.4018\n",
      "Epoch 145/300\n",
      "226/226 [==============================] - 0s 1ms/step - loss: 0.4399 - val_loss: 0.4070\n",
      "Epoch 146/300\n",
      "226/226 [==============================] - 0s 1ms/step - loss: 0.4709 - val_loss: 0.4022\n",
      "Epoch 147/300\n",
      "226/226 [==============================] - 0s 1ms/step - loss: 0.4490 - val_loss: 0.4041\n",
      "Epoch 148/300\n",
      "226/226 [==============================] - 0s 1ms/step - loss: 0.4445 - val_loss: 0.4044\n",
      "Epoch 149/300\n",
      "226/226 [==============================] - 0s 987us/step - loss: 0.4540 - val_loss: 0.4040\n",
      "Epoch 150/300\n",
      "226/226 [==============================] - 0s 1ms/step - loss: 0.4557 - val_loss: 0.4027\n",
      "Epoch 151/300\n",
      "226/226 [==============================] - 0s 1ms/step - loss: 0.4578 - val_loss: 0.4027\n",
      "Epoch 152/300\n",
      "226/226 [==============================] - 0s 1ms/step - loss: 0.4590 - val_loss: 0.4010\n",
      "Epoch 153/300\n",
      "226/226 [==============================] - 0s 985us/step - loss: 0.4461 - val_loss: 0.4020\n",
      "Epoch 154/300\n",
      "226/226 [==============================] - 0s 1ms/step - loss: 0.4553 - val_loss: 0.4016\n",
      "Epoch 155/300\n",
      "226/226 [==============================] - 0s 1ms/step - loss: 0.4531 - val_loss: 0.4082\n",
      "Epoch 156/300\n",
      "226/226 [==============================] - 0s 974us/step - loss: 0.4454 - val_loss: 0.4034\n",
      "Epoch 157/300\n",
      "226/226 [==============================] - 0s 1ms/step - loss: 0.4414 - val_loss: 0.4018\n",
      "Epoch 00157: early stopping\n"
     ]
    },
    {
     "data": {
      "text/plain": [
       "<tensorflow.python.keras.callbacks.History at 0x29909d87e20>"
      ]
     },
     "execution_count": 165,
     "metadata": {},
     "output_type": "execute_result"
    }
   ],
   "source": [
    "model_earl.fit(x=X_train, \n",
    "          y=y_train,\n",
    "          batch_size=32,\n",
    "          epochs=300,\n",
    "          callbacks=[early_stop],\n",
    "          validation_data=(X_test, y_test), verbose=1)"
   ]
  },
  {
   "cell_type": "code",
   "execution_count": 166,
   "metadata": {},
   "outputs": [
    {
     "data": {
      "image/png": "[encoded data removed]",
      "text/plain": [
       "<Figure size 432x288 with 1 Axes>"
      ]
     },
     "metadata": {
      "needs_background": "light"
     },
     "output_type": "display_data"
    }
   ],
   "source": [
    "pd.DataFrame(model_earl.history.history).plot();"
   ]
  },
  {
   "cell_type": "code",
   "execution_count": 168,
   "metadata": {},
   "outputs": [
    {
     "name": "stdout",
     "output_type": "stream",
     "text": [
      "[[1221  320]\n",
      " [ 234 1323]] \n",
      " \n",
      "\n",
      "              precision    recall  f1-score   support\n",
      "\n",
      "           0       0.84      0.79      0.82      1541\n",
      "           1       0.81      0.85      0.83      1557\n",
      "\n",
      "    accuracy                           0.82      3098\n",
      "   macro avg       0.82      0.82      0.82      3098\n",
      "weighted avg       0.82      0.82      0.82      3098\n",
      "\n"
     ]
    }
   ],
   "source": [
    "pred_earl = model_earl.predict_classes(X_test)\n",
    "print(confusion_matrix(y_test,pred_earl), '\\n', '\\n')\n",
    "print(classification_report(y_test,pred_earl))"
   ]
  },
  {
   "cell_type": "code",
   "execution_count": 169,
   "metadata": {
    "jupyter": {
     "source_hidden": true
    }
   },
   "outputs": [
    {
     "name": "stdout",
     "output_type": "stream",
     "text": [
      "[[1238  303]\n",
      " [ 263 1294]] \n",
      " \n",
      "\n",
      "              precision    recall  f1-score   support\n",
      "\n",
      "           0       0.82      0.80      0.81      1541\n",
      "           1       0.81      0.83      0.82      1557\n",
      "\n",
      "    accuracy                           0.82      3098\n",
      "   macro avg       0.82      0.82      0.82      3098\n",
      "weighted avg       0.82      0.82      0.82      3098\n",
      "\n"
     ]
    }
   ],
   "source": [
    "pred = model.predict_classes(X_test)\n",
    "print(confusion_matrix(y_test,pred), '\\n', '\\n')\n",
    "print(classification_report(y_test,pred))"
   ]
  },
  {
   "cell_type": "code",
   "execution_count": null,
   "metadata": {},
   "outputs": [],
   "source": [
    "# Lets see the score on all data set\n",
    "print(df2.shape)\n",
    "X2 = df2.drop('label',axis=1).values\n",
    "y2 = df2['label'].values\n",
    "X_train2, X_test2, y_train2, y_test2 = train_test_split(X2,y2,test_size=0.2, random_state=33)\n",
    "\n",
    "scaler = MinMaxScaler()\n",
    "X_train2 = scaler.fit_transform(X_train2)\n",
    "X_test2 = scaler.transform(X_test2)"
   ]
  },
  {
   "cell_type": "code",
   "execution_count": null,
   "metadata": {},
   "outputs": [],
   "source": []
  },
  {
   "cell_type": "code",
   "execution_count": null,
   "metadata": {},
   "outputs": [],
   "source": []
  },
  {
   "cell_type": "code",
   "execution_count": null,
   "metadata": {},
   "outputs": [],
   "source": []
  },
  {
   "cell_type": "code",
   "execution_count": null,
   "metadata": {},
   "outputs": [],
   "source": [
    "# 6. Model Evaluation"
   ]
  },
  {
   "cell_type": "code",
   "execution_count": null,
   "metadata": {},
   "outputs": [],
   "source": [
    "# Lets see the score on all data set\n",
    "print(df2.shape)\n",
    "X2 = df2.drop('Churn',axis=1).values\n",
    "y2 = df2['Churn'].values\n",
    "X_train2, X_test2, y_train2, y_test2 = train_test_split(X2,y2,test_size=0.2, random_state=33)\n",
    "\n",
    "scaler = MinMaxScaler()\n",
    "X_train2 = scaler.fit_transform(X_train2)\n",
    "X_test2 = scaler.transform(X_test2)\n",
    "\n",
    "pred2 = model.predict_classes(X_test2)\n",
    "\n",
    "print(confusion_matrix(y_test2,pred2), '\\n', '\\n')\n",
    "print(classification_report(y_test2,pred2))\n",
    "\n",
    "pred_earl2 = model_earl.predict_classes(X_test2)\n",
    "\n",
    "print(confusion_matrix(y_test2,pred_earl2), '\\n', '\\n')\n",
    "print(classification_report(y_test2,pred_earl2))"
   ]
  },
  {
   "cell_type": "code",
   "execution_count": null,
   "metadata": {},
   "outputs": [],
   "source": []
  },
  {
   "cell_type": "code",
   "execution_count": null,
   "metadata": {},
   "outputs": [],
   "source": []
  },
  {
   "cell_type": "code",
   "execution_count": null,
   "metadata": {},
   "outputs": [],
   "source": [
    "## 7. Let's try our model on a random customer"
   ]
  },
  {
   "cell_type": "code",
   "execution_count": null,
   "metadata": {},
   "outputs": [],
   "source": [
    "#import random\n",
    "#random.seed(42)\n",
    "#random_ind = random.randint(0,len(df))\n",
    "\n",
    "new_customer = df.drop('Churn',axis=1).iloc[101]\n",
    "new_customer"
   ]
  },
  {
   "cell_type": "code",
   "execution_count": null,
   "metadata": {},
   "outputs": [],
   "source": [
    "model.predict_classes(new_customer.values.reshape(1,21))"
   ]
  },
  {
   "cell_type": "code",
   "execution_count": null,
   "metadata": {},
   "outputs": [],
   "source": [
    "df.iloc[101]['Churn']"
   ]
  },
  {
   "cell_type": "code",
   "execution_count": null,
   "metadata": {},
   "outputs": [],
   "source": []
  }
 ],
 "metadata": {
  "kernelspec": {
   "display_name": "Python 3",
   "language": "python",
   "name": "python3"
  },
  "language_info": {
   "codemirror_mode": {
    "name": "ipython",
    "version": 3
   },
   "file_extension": ".py",
   "mimetype": "text/x-python",
   "name": "python",
   "nbconvert_exporter": "python",
   "pygments_lexer": "ipython3",
   "version": "3.8.3"
  }
 },
 "nbformat": 4,
 "nbformat_minor": 4
}
